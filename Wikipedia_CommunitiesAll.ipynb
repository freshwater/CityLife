{
 "cells": [
  {
   "cell_type": "code",
   "execution_count": null,
   "metadata": {},
   "outputs": [],
   "source": []
  },
  {
   "cell_type": "code",
   "execution_count": null,
   "metadata": {},
   "outputs": [],
   "source": []
  },
  {
   "cell_type": "markdown",
   "metadata": {},
   "source": [
    "docker run -d --name sparkbook -p 8881:8888 -v \"$PWD\":/home/jovyan/work jupyter/pyspark-notebook start.sh jupyter lab --LabApp.token=''"
   ]
  },
  {
   "cell_type": "markdown",
   "metadata": {},
   "source": [
    "m5.8xlarge  128GiB  \n",
    "r5.4xlarge  128GiB  \n",
    "x1e.xlarge  122GiB  \n",
    "x1.16xlarge 976GiB  \n",
    "i3.4xlarge  122GiB"
   ]
  },
  {
   "cell_type": "code",
   "execution_count": 3,
   "metadata": {},
   "outputs": [],
   "source": []
  },
  {
   "cell_type": "code",
   "execution_count": 1,
   "metadata": {},
   "outputs": [],
   "source": [
    "import requests\n",
    "from bs4 import BeautifulSoup\n",
    "import pyspark as ps\n",
    "import numpy as np\n",
    "import time\n",
    "\n",
    "response_cache = {}\n",
    "\n",
    "def http_get(url):\n",
    "    if response := response_cache.get(url):\n",
    "        return response\n",
    "    else:\n",
    "        response = requests.request(url=url, method=\"GET\")\n",
    "        counties_list_html = response.content\n",
    "        response_cache[url] = counties_list_html\n",
    "        \n",
    "        return response_cache[url]\n",
    "\n",
    "spark = (ps.sql.SparkSession\n",
    "         .builder\n",
    "         .master('local[8]')\n",
    "         .appName('lecture')\n",
    "         .getOrCreate())\n",
    "\n",
    "sc = spark.sparkContext"
   ]
  },
  {
   "cell_type": "code",
   "execution_count": null,
   "metadata": {},
   "outputs": [],
   "source": [
    "Holmes_County,_Ohio"
   ]
  },
  {
   "cell_type": "code",
   "execution_count": 416,
   "metadata": {},
   "outputs": [
    {
     "name": "stdout",
     "output_type": "stream",
     "text": [
      "[<big>The 3,243 counties and county equivalents of the United States<sup class=\"reference\" id=\"cite_ref-14\"><a href=\"#cite_note-14\">[c]</a></sup></big>]\n"
     ]
    },
    {
     "data": {
      "text/plain": [
       "'time.2.3295090198516846'"
      ]
     },
     "execution_count": 416,
     "metadata": {},
     "output_type": "execute_result"
    }
   ],
   "source": [
    "counties_list_url = \"https://en.wikipedia.org/wiki/List_of_United_States_counties_and_county_equivalents\"\n",
    "\n",
    "def wikipedia_export_get(title):\n",
    "    xml = http_get(\"https://en.wikipedia.org/wiki/Special:Export/\" + title)\n",
    "    \n",
    "    if b'<redirect title' in xml:\n",
    "        return wikipedia_export_get(title=BeautifulSoup(xml).select('redirect')[0]['title'])\n",
    "    else:\n",
    "        return xml\n",
    "\n",
    "def wikipedia_standard_url(title):\n",
    "    return \"https://en.wikipedia.org/wiki/\" + title\n",
    "\n",
    "# def wikipedia_standard_url_encode(title):\n",
    "#     import urllib.parse\n",
    "#     return \"https://en.wikipedia.org/wiki/\" + urllib.parse.quote(title)\n",
    "\n",
    "def wikipedia_counties_titles():\n",
    "    soup = BeautifulSoup(http_get(counties_list_url))\n",
    "    print(soup.select('.wikitable.sortable caption big'))\n",
    "    \n",
    "    rows = soup.select('.wikitable.sortable tbody tr')\n",
    "    anchors = sum([row.select('td a')[:1] for row in rows], [])\n",
    "\n",
    "    urls = [a['href'][len('/wiki/'):] for a in anchors]\n",
    "    \n",
    "    return urls\n",
    "    \n",
    "def wikipedia_communities_subheadings(text):\n",
    "    import re\n",
    "\n",
    "    regex = r\"(^==\\s?Communities\\s?==)(.+?)(^==[^=].+?[^=]==)\"\n",
    "    post_communities = re.findall(regex, text, re.MULTILINE + re.DOTALL)\n",
    "    \n",
    "    if len(post_communities) == 0:\n",
    "        return []\n",
    "\n",
    "    # print(post_communities[0])\n",
    "    post_communities = post_communities[0]\n",
    "    \n",
    "    regex = r\"===(.+)===\"\n",
    "    res = [result.strip() for result in re.findall(regex, post_communities[1])]\n",
    "\n",
    "    return res\n",
    "\n",
    "time1 = time.time()\n",
    "wikipedia_counties_titles()\n",
    "f'time.{time.time() - time1}'"
   ]
  },
  {
   "cell_type": "markdown",
   "metadata": {},
   "source": [
    " "
   ]
  },
  {
   "cell_type": "code",
   "execution_count": 476,
   "metadata": {},
   "outputs": [],
   "source": [
    "def wikipedia_communities_extract(text):\n",
    "    import re\n",
    "\n",
    "    regex = r\"(^==\\s?Communities\\s?==)(.+?)(^==[^=].+?[^=]==)\"\n",
    "    post_communities = re.findall(regex, text, re.MULTILINE + re.DOTALL)\n",
    "    \n",
    "    regex = r\"(^==\\s?Municipalities\\s?==)(.+?)(^==[^=].+?[^=]==)\"\n",
    "    municipalities = re.findall(regex, text, re.MULTILINE + re.DOTALL)\n",
    "    \n",
    "    regex = r\"(^==\\s?Cities and communities\\s?==)(.+?)(^==[^=].+?[^=]==)\"\n",
    "    cities_and_communities = re.findall(regex, text, re.MULTILINE + re.DOTALL)\n",
    "    \n",
    "    regex = r\"(^==\\s?Community\\s?==)(.+?)(^==[^=].+?[^=]==)\"\n",
    "    community = re.findall(regex, text, re.MULTILINE + re.DOTALL)\n",
    "    \n",
    "    types = []\n",
    "    if len(post_communities) > 0:\n",
    "        types.append(\"Communities\")\n",
    "        \n",
    "    if len(municipalities) > 0:\n",
    "        types.append(\"Municipalities\")\n",
    "        if len(municipalities) > len(post_communities):\n",
    "            post_communities = municipalities\n",
    "\n",
    "    if len(cities_and_communities) > 0:\n",
    "        types.append(\"Cities and communities\")\n",
    "        if len(cities_and_communities) > len(post_communities):\n",
    "            post_communities = cities_and_communities\n",
    "\n",
    "    if len(community) > 0:\n",
    "        types.append(\"Community\")\n",
    "        if len(community) > len(post_communities):\n",
    "            post_communities = community\n",
    "    \n",
    "    if len(post_communities) == 0:\n",
    "        return []\n",
    "\n",
    "    post_communities = post_communities[0]\n",
    "    \n",
    "    regex = r\"===(.+)===\"\n",
    "    communities_subheadings = [result.strip() for result in re.findall(regex, post_communities[1])]\n",
    "    \n",
    "    ## --\n",
    "    \n",
    "    # print(re.findall(r\"\\*\\s*\\[\", post_communities[1]))\n",
    "    regex = r\"\\*\\s*\\[\\[(.+?),(.+?)\\|(.+?)\\]\\]\"\n",
    "    communities = re.findall(regex, post_communities[1])\n",
    "    \n",
    "    regex = r\"\\*\\s*\\[\\[(.+?)\\|(.+?)\\]\\]\"\n",
    "    communities_all = re.findall(regex, post_communities[1])\n",
    "    \n",
    "    regex = r\"\\*\\s*\\[\\[([^|]+?)\\]\\]\"\n",
    "    communities_untitled = re.findall(regex, post_communities[1])\n",
    "        \n",
    "    a = set([c[2] for c in communities])\n",
    "    b = set([c[1] for c in communities_all])\n",
    "    difference = b.difference(a).union(a.difference(b))\n",
    "    \n",
    "    return communities_subheadings, [c[0] for c in communities_all], difference, communities_untitled, types"
   ]
  },
  {
   "cell_type": "code",
   "execution_count": 478,
   "metadata": {
    "collapsed": true,
    "jupyter": {
     "outputs_hidden": true
    }
   },
   "outputs": [
    {
     "name": "stdout",
     "output_type": "stream",
     "text": [
      "https://en.wikipedia.org/wiki/Garvin_County,_Oklahoma\n"
     ]
    },
    {
     "data": {
      "text/plain": [
       "([],\n",
       " ['Antioch, Oklahoma',\n",
       "  'Elmore City, Oklahoma',\n",
       "  'Erin Springs, Oklahoma',\n",
       "  'Fort Arbuckle (Oklahoma)',\n",
       "  'Foster, Oklahoma',\n",
       "  'Hennepin, Oklahoma',\n",
       "  'Hoover, Oklahoma',\n",
       "  'Katie, Oklahoma',\n",
       "  'Lindsay, Oklahoma',\n",
       "  'Maysville, Oklahoma',\n",
       "  'Paoli, Oklahoma',\n",
       "  'Pauls Valley, Oklahoma',\n",
       "  'Pernell, Oklahoma',\n",
       "  'Purdy, Oklahoma',\n",
       "  'Stratford, Oklahoma',\n",
       "  'Tussy, Oklahoma',\n",
       "  'Wallville, Oklahoma',\n",
       "  'Wynnewood, Oklahoma'],\n",
       " {'Fort Arbuckle'},\n",
       " [],\n",
       " ['Communities'])"
      ]
     },
     "execution_count": 478,
     "metadata": {},
     "output_type": "execute_result"
    }
   ],
   "source": [
    "title = 'Garvin_County,_Oklahoma'\n",
    "print(wikipedia_standard_url(title))\n",
    "text = BeautifulSoup(wikipedia_export_get(title)).select('text')[0].getText()\n",
    "# print(text)\n",
    "wikipedia_communities_extract(text)"
   ]
  },
  {
   "cell_type": "markdown",
   "metadata": {},
   "source": [
    "---"
   ]
  },
  {
   "cell_type": "markdown",
   "metadata": {},
   "source": [
    "### Init!"
   ]
  },
  {
   "cell_type": "code",
   "execution_count": 134,
   "metadata": {},
   "outputs": [
    {
     "name": "stdout",
     "output_type": "stream",
     "text": [
      "[<big>The 3,243 counties and county equivalents of the United States<sup class=\"reference\" id=\"cite_ref-14\"><a href=\"#cite_note-14\">[c]</a></sup></big>]\n",
      "CPU times: user 2.07 s, sys: 17 ms, total: 2.09 s\n",
      "Wall time: 2.15 s\n"
     ]
    }
   ],
   "source": [
    "%%time\n",
    "\n",
    "twenty = wikipedia_counties_titles()\n",
    "\n",
    "counties_export_text = (sc.parallelize(twenty)\n",
    "                          .map(wikipedia_export_get)\n",
    "                          .map(lambda export: BeautifulSoup(export).select('text')[0].getText())\n",
    "                          .cache())"
   ]
  },
  {
   "cell_type": "code",
   "execution_count": 480,
   "metadata": {},
   "outputs": [],
   "source": [
    "communities_all = (counties_export_text.map(wikipedia_communities_extract)\n",
    "                                       .filter(lambda x: x != [])\n",
    "                                       .map(lambda x: x[1]))\n",
    "\n",
    "# out = [o for o in out if o[0] == tuple() and ',_Indiana' in o[1]]\n",
    "# out = [o for o in out if o[0] != tuple() and ',_Puerto_Rico' not in o[1]]\n",
    "# out = [o for o in out if o[0] != tuple() and ',_Indiana' in o[1]]\n",
    "# out = [o for o in out if o[0] != tuple() and ',_Virginia' in o[1]]\n",
    "# out = [o for o in out if o[0] != tuple() and ',_Alaska' in o[1]]\n",
    "\n",
    "communities_all_1 = list(communities_all.map(set).reduce(set.union))"
   ]
  },
  {
   "cell_type": "code",
   "execution_count": 482,
   "metadata": {},
   "outputs": [],
   "source": [
    "with open('communities_all.txt', 'w') as f:\n",
    "    f.write(\"\\n\".join(communities_all_1))"
   ]
  },
  {
   "cell_type": "code",
   "execution_count": 486,
   "metadata": {
    "collapsed": true,
    "jupyter": {
     "outputs_hidden": true
    }
   },
   "outputs": [
    {
     "data": {
      "text/html": [
       "<a href=\"https://en.wikipedia.org/wiki/Ellsworth Township, Mahoning County, Ohio\">Ellsworth Township, Mahoning County, Ohio</a><br><a href=\"https://en.wikipedia.org/wiki/Harbeson, Delaware\">Harbeson, Delaware</a><br><a href=\"https://en.wikipedia.org/wiki/Texline, Texas\">Texline, Texas</a><br><a href=\"https://en.wikipedia.org/wiki/Charlesburg, Wisconsin\">Charlesburg, Wisconsin</a><br><a href=\"https://en.wikipedia.org/wiki/Warwick Township, Bucks County, Pennsylvania\">Warwick Township, Bucks County, Pennsylvania</a><br><a href=\"https://en.wikipedia.org/wiki/Dayton Township, LaSalle County, Illinois\">Dayton Township, LaSalle County, Illinois</a><br><a href=\"https://en.wikipedia.org/wiki/Mound Prairie Township, Houston County, Minnesota\">Mound Prairie Township, Houston County, Minnesota</a><br><a href=\"https://en.wikipedia.org/wiki/Stillwater (town), New York\">Stillwater (town), New York</a><br><a href=\"https://en.wikipedia.org/wiki/Balltown, Tennessee\">Balltown, Tennessee</a><br><a href=\"https://en.wikipedia.org/wiki/Middletown, Missouri\">Middletown, Missouri</a><br><a href=\"https://en.wikipedia.org/wiki/Summitville, Ohio\">Summitville, Ohio</a><br><a href=\"https://en.wikipedia.org/wiki/Dummerston Center, Vermont\">Dummerston Center, Vermont</a><br><a href=\"https://en.wikipedia.org/wiki/Balltown, Iowa\">Balltown, Iowa</a><br><a href=\"https://en.wikipedia.org/wiki/Yoder, Indiana\">Yoder, Indiana</a><br><a href=\"https://en.wikipedia.org/wiki/Ellamore, West Virginia\">Ellamore, West Virginia</a><br><a href=\"https://en.wikipedia.org/wiki/Cedar Grove, Texas\">Cedar Grove, Texas</a><br><a href=\"https://en.wikipedia.org/wiki/Bingham, Maine\">Bingham, Maine</a><br><a href=\"https://en.wikipedia.org/wiki/Nahunta, North Carolina\">Nahunta, North Carolina</a><br><a href=\"https://en.wikipedia.org/wiki/Kingsford Heights, Indiana\">Kingsford Heights, Indiana</a><br><a href=\"https://en.wikipedia.org/wiki/Grand Lake, Louisiana\">Grand Lake, Louisiana</a><br><a href=\"https://en.wikipedia.org/wiki/Massapequa, New York\">Massapequa, New York</a><br><a href=\"https://en.wikipedia.org/wiki/Oella, Maryland\">Oella, Maryland</a><br><a href=\"https://en.wikipedia.org/wiki/Durham Township, Durham County, North Carolina\">Durham Township, Durham County, North Carolina</a><br><a href=\"https://en.wikipedia.org/wiki/Utica, Texas\">Utica, Texas</a><br><a href=\"https://en.wikipedia.org/wiki/Jacksonville, Centre County, Pennsylvania\">Jacksonville, Centre County, Pennsylvania</a><br><a href=\"https://en.wikipedia.org/wiki/Auglaize Township, Laclede County, Missouri\">Auglaize Township, Laclede County, Missouri</a><br><a href=\"https://en.wikipedia.org/wiki/Zumbrota, Minnesota\">Zumbrota, Minnesota</a><br><a href=\"https://en.wikipedia.org/wiki/Wisner Township, Franklin County, Iowa\">Wisner Township, Franklin County, Iowa</a><br><a href=\"https://en.wikipedia.org/wiki/Elk City, Nebraska\">Elk City, Nebraska</a><br><a href=\"https://en.wikipedia.org/wiki/Lawrence, Rusk County, Wisconsin\">Lawrence, Rusk County, Wisconsin</a><br><a href=\"https://en.wikipedia.org/wiki/Gilliam, Missouri\">Gilliam, Missouri</a><br><a href=\"https://en.wikipedia.org/wiki/Crook Township, Drew County, Arkansas\">Crook Township, Drew County, Arkansas</a><br><a href=\"https://en.wikipedia.org/wiki/Roberts, Crook County, Oregon\">Roberts, Crook County, Oregon</a><br><a href=\"https://en.wikipedia.org/wiki/Pounding Mill, Virginia\">Pounding Mill, Virginia</a><br><a href=\"https://en.wikipedia.org/wiki/Peel, Oregon\">Peel, Oregon</a><br><a href=\"https://en.wikipedia.org/wiki/Reynolds Heights, Pennsylvania\">Reynolds Heights, Pennsylvania</a><br><a href=\"https://en.wikipedia.org/wiki/Plantation Mobile Home Park, Florida\">Plantation Mobile Home Park, Florida</a><br><a href=\"https://en.wikipedia.org/wiki/Turin Township, Michigan#Communities\">Turin Township, Michigan#Communities</a><br><a href=\"https://en.wikipedia.org/wiki/Aspenhoff, Missouri\">Aspenhoff, Missouri</a><br><a href=\"https://en.wikipedia.org/wiki/Hamburg, Minnesota\">Hamburg, Minnesota</a><br><a href=\"https://en.wikipedia.org/wiki/Fort Belknap Agency, Montana\">Fort Belknap Agency, Montana</a><br><a href=\"https://en.wikipedia.org/wiki/Sandusky, Ohio\">Sandusky, Ohio</a><br><a href=\"https://en.wikipedia.org/wiki/Frankfort, Kansas\">Frankfort, Kansas</a><br><a href=\"https://en.wikipedia.org/wiki/Wadsworth Township, Medina County, Ohio\">Wadsworth Township, Medina County, Ohio</a><br><a href=\"https://en.wikipedia.org/wiki/Paron, Arkansas\">Paron, Arkansas</a><br><a href=\"https://en.wikipedia.org/wiki/East Adams, North Dakota\">East Adams, North Dakota</a><br><a href=\"https://en.wikipedia.org/wiki/Severy, Kansas\">Severy, Kansas</a><br><a href=\"https://en.wikipedia.org/wiki/White Oak, Brown County, Ohio\">White Oak, Brown County, Ohio</a><br><a href=\"https://en.wikipedia.org/wiki/Quail Ridge, Florida\">Quail Ridge, Florida</a><br><a href=\"https://en.wikipedia.org/wiki/Evanston Township, Cook County, Illinois\">Evanston Township, Cook County, Illinois</a><br><a href=\"https://en.wikipedia.org/wiki/Hinkley, California\">Hinkley, California</a><br><a href=\"https://en.wikipedia.org/wiki/Moore's Prairie Township, Jefferson County, Illinois\">Moore's Prairie Township, Jefferson County, Illinois</a><br><a href=\"https://en.wikipedia.org/wiki/Hydesville, California\">Hydesville, California</a><br><a href=\"https://en.wikipedia.org/wiki/Old Tyrone, Wisconsin\">Old Tyrone, Wisconsin</a><br><a href=\"https://en.wikipedia.org/wiki/Cold Spring, Minnesota\">Cold Spring, Minnesota</a><br><a href=\"https://en.wikipedia.org/wiki/Sailor Springs, Illinois\">Sailor Springs, Illinois</a><br><a href=\"https://en.wikipedia.org/wiki/Parlin, Colorado\">Parlin, Colorado</a><br><a href=\"https://en.wikipedia.org/wiki/Army Lake, Wisconsin\">Army Lake, Wisconsin</a><br><a href=\"https://en.wikipedia.org/wiki/Kintire Township, Redwood County, Minnesota\">Kintire Township, Redwood County, Minnesota</a><br><a href=\"https://en.wikipedia.org/wiki/Rawson, Ohio\">Rawson, Ohio</a><br><a href=\"https://en.wikipedia.org/wiki/Thayer, Indiana\">Thayer, Indiana</a><br><a href=\"https://en.wikipedia.org/wiki/Summer Lake, Oregon\">Summer Lake, Oregon</a><br><a href=\"https://en.wikipedia.org/wiki/St. Kilian, Minnesota\">St. Kilian, Minnesota</a><br><a href=\"https://en.wikipedia.org/wiki/Canadian, Texas\">Canadian, Texas</a><br><a href=\"https://en.wikipedia.org/wiki/Osborn, Wisconsin\">Osborn, Wisconsin</a><br><a href=\"https://en.wikipedia.org/wiki/Pineville, Louisiana\">Pineville, Louisiana</a><br><a href=\"https://en.wikipedia.org/wiki/Cocalico, Pennsylvania\">Cocalico, Pennsylvania</a><br><a href=\"https://en.wikipedia.org/wiki/Remsen Township, Plymouth County, Iowa\">Remsen Township, Plymouth County, Iowa</a><br><a href=\"https://en.wikipedia.org/wiki/Campo Bonito, Arizona\">Campo Bonito, Arizona</a><br><a href=\"https://en.wikipedia.org/wiki/Marcel, California\">Marcel, California</a><br><a href=\"https://en.wikipedia.org/wiki/Mentor Township, Cheboygan County, Michigan#Geography\">Mentor Township, Cheboygan County, Michigan#Geography</a><br><a href=\"https://en.wikipedia.org/wiki/Plattsville, Ohio\">Plattsville, Ohio</a><br><a href=\"https://en.wikipedia.org/wiki/Round Valley, Nebraska\">Round Valley, Nebraska</a><br><a href=\"https://en.wikipedia.org/wiki/Logan, Oklahoma\">Logan, Oklahoma</a><br><a href=\"https://en.wikipedia.org/wiki/Canaan, Oregon\">Canaan, Oregon</a><br><a href=\"https://en.wikipedia.org/wiki/Chelsea, Maine\">Chelsea, Maine</a><br><a href=\"https://en.wikipedia.org/wiki/Salem, Connecticut\">Salem, Connecticut</a><br><a href=\"https://en.wikipedia.org/wiki/Grand Cane, Louisiana\">Grand Cane, Louisiana</a><br><a href=\"https://en.wikipedia.org/wiki/Winchester, Adams County, Ohio\">Winchester, Adams County, Ohio</a><br><a href=\"https://en.wikipedia.org/wiki/Delano, California\">Delano, California</a><br><a href=\"https://en.wikipedia.org/wiki/Iowa Township, Washington County, Iowa\">Iowa Township, Washington County, Iowa</a><br><a href=\"https://en.wikipedia.org/wiki/Clarion, Utah\">Clarion, Utah</a><br><a href=\"https://en.wikipedia.org/wiki/Hurricane, Bollinger County, Missouri\">Hurricane, Bollinger County, Missouri</a><br><a href=\"https://en.wikipedia.org/wiki/Naples, Illinois\">Naples, Illinois</a><br><a href=\"https://en.wikipedia.org/wiki/Buffalo, Texas\">Buffalo, Texas</a><br><a href=\"https://en.wikipedia.org/wiki/Red Apple, Alabama\">Red Apple, Alabama</a><br><a href=\"https://en.wikipedia.org/wiki/East St. Clair Township, Bedford County, Pennsylvania\">East St. Clair Township, Bedford County, Pennsylvania</a><br><a href=\"https://en.wikipedia.org/wiki/Mill City, Utah\">Mill City, Utah</a><br><a href=\"https://en.wikipedia.org/wiki/Camp Creek Township, Pike County, Ohio\">Camp Creek Township, Pike County, Ohio</a><br><a href=\"https://en.wikipedia.org/wiki/Jerome, Arkansas\">Jerome, Arkansas</a><br><a href=\"https://en.wikipedia.org/wiki/Westfield Township, Plymouth County, Iowa\">Westfield Township, Plymouth County, Iowa</a><br><a href=\"https://en.wikipedia.org/wiki/Winnipeg Junction, Minnesota\">Winnipeg Junction, Minnesota</a><br><a href=\"https://en.wikipedia.org/wiki/Pin Hook, Alabama\">Pin Hook, Alabama</a><br><a href=\"https://en.wikipedia.org/wiki/Falmouth, Florida\">Falmouth, Florida</a><br><a href=\"https://en.wikipedia.org/wiki/Robertson Fork, Tennessee\">Robertson Fork, Tennessee</a><br><a href=\"https://en.wikipedia.org/wiki/Silex, Missouri\">Silex, Missouri</a><br><a href=\"https://en.wikipedia.org/wiki/Springfield, Albemarle County, Virginia\">Springfield, Albemarle County, Virginia</a><br><a href=\"https://en.wikipedia.org/wiki/Pearblossom, California\">Pearblossom, California</a><br><a href=\"https://en.wikipedia.org/wiki/Dogtown, Pennsylvania\">Dogtown, Pennsylvania</a><br><a href=\"https://en.wikipedia.org/wiki/Bob Ward Township, Crittenden County, Arkansas\">Bob Ward Township, Crittenden County, Arkansas</a><br><a href=\"https://en.wikipedia.org/wiki/Ballplay, Alabama\">Ballplay, Alabama</a><br><a href=\"https://en.wikipedia.org/wiki/Royal Township, Lincoln County, Minnesota\">Royal Township, Lincoln County, Minnesota</a><br><a href=\"https://en.wikipedia.org/wiki/McLoud, Oklahoma\">McLoud, Oklahoma</a><br><a href=\"https://en.wikipedia.org/wiki/Rutherford Township, Martin County, Indiana\">Rutherford Township, Martin County, Indiana</a><br><a href=\"https://en.wikipedia.org/wiki/Hawk Cove, Texas\">Hawk Cove, Texas</a><br><a href=\"https://en.wikipedia.org/wiki/Hatton, Colbert County, Alabama\">Hatton, Colbert County, Alabama</a><br><a href=\"https://en.wikipedia.org/wiki/Pleasanton, California\">Pleasanton, California</a><br><a href=\"https://en.wikipedia.org/wiki/Forrest City, Arkansas\">Forrest City, Arkansas</a><br><a href=\"https://en.wikipedia.org/wiki/Oakdale, Nebraska\">Oakdale, Nebraska</a><br><a href=\"https://en.wikipedia.org/wiki/Coden, Alabama\">Coden, Alabama</a><br><a href=\"https://en.wikipedia.org/wiki/Ionia, Missouri\">Ionia, Missouri</a><br><a href=\"https://en.wikipedia.org/wiki/Holcomb, West Virginia\">Holcomb, West Virginia</a><br><a href=\"https://en.wikipedia.org/wiki/Marshall Township, Pocahontas County, Iowa\">Marshall Township, Pocahontas County, Iowa</a><br><a href=\"https://en.wikipedia.org/wiki/Danbury, Connecticut\">Danbury, Connecticut</a><br><a href=\"https://en.wikipedia.org/wiki/Platte Township, Andrew County, Missouri\">Platte Township, Andrew County, Missouri</a><br><a href=\"https://en.wikipedia.org/wiki/Farrandville, Michigan\">Farrandville, Michigan</a><br><a href=\"https://en.wikipedia.org/wiki/Radium, Texas\">Radium, Texas</a><br><a href=\"https://en.wikipedia.org/wiki/Rock Point, Arizona\">Rock Point, Arizona</a><br><a href=\"https://en.wikipedia.org/wiki/Centreville, Alabama\">Centreville, Alabama</a><br><a href=\"https://en.wikipedia.org/wiki/Coalwood, West Virginia\">Coalwood, West Virginia</a><br><a href=\"https://en.wikipedia.org/wiki/Wyoming, Iowa County, Wisconsin\">Wyoming, Iowa County, Wisconsin</a><br><a href=\"https://en.wikipedia.org/wiki/Aberdeen, Mississippi\">Aberdeen, Mississippi</a><br><a href=\"https://en.wikipedia.org/wiki/South Fulton, Tennessee\">South Fulton, Tennessee</a><br><a href=\"https://en.wikipedia.org/wiki/Norton, West Virginia\">Norton, West Virginia</a><br><a href=\"https://en.wikipedia.org/wiki/Centerport, Pennsylvania\">Centerport, Pennsylvania</a><br><a href=\"https://en.wikipedia.org/wiki/Barberville, Rhode Island\">Barberville, Rhode Island</a><br><a href=\"https://en.wikipedia.org/wiki/Ester, Alaska\">Ester, Alaska</a><br><a href=\"https://en.wikipedia.org/wiki/Waynesburg, Kentucky\">Waynesburg, Kentucky</a><br><a href=\"https://en.wikipedia.org/wiki/Niagara Falls, New York\">Niagara Falls, New York</a><br><a href=\"https://en.wikipedia.org/wiki/Montrose Township, Ashley County, Arkansas\">Montrose Township, Ashley County, Arkansas</a><br><a href=\"https://en.wikipedia.org/wiki/Isle Harbor Township, Mille Lacs County, Minnesota\">Isle Harbor Township, Mille Lacs County, Minnesota</a><br><a href=\"https://en.wikipedia.org/wiki/Jordan, Kentucky\">Jordan, Kentucky</a><br><a href=\"https://en.wikipedia.org/wiki/Buckner, Louisiana\">Buckner, Louisiana</a><br><a href=\"https://en.wikipedia.org/wiki/Colfax, Louisiana\">Colfax, Louisiana</a><br><a href=\"https://en.wikipedia.org/wiki/Syenite, Missouri\">Syenite, Missouri</a><br><a href=\"https://en.wikipedia.org/wiki/Gum Tree, Kentucky\">Gum Tree, Kentucky</a><br><a href=\"https://en.wikipedia.org/wiki/Larsen Bay, Alaska\">Larsen Bay, Alaska</a><br><a href=\"https://en.wikipedia.org/wiki/Balkan Township, St. Louis County, Minnesota\">Balkan Township, St. Louis County, Minnesota</a><br><a href=\"https://en.wikipedia.org/wiki/Bristol, Dane County, Wisconsin\">Bristol, Dane County, Wisconsin</a><br><a href=\"https://en.wikipedia.org/wiki/Union, Iowa\">Union, Iowa</a><br><a href=\"https://en.wikipedia.org/wiki/Elizabeth, Mississippi\">Elizabeth, Mississippi</a><br><a href=\"https://en.wikipedia.org/wiki/Wooster, Kosciusko County, Indiana\">Wooster, Kosciusko County, Indiana</a><br><a href=\"https://en.wikipedia.org/wiki/McDaniel, Indiana\">McDaniel, Indiana</a><br><a href=\"https://en.wikipedia.org/wiki/Gage, Oklahoma\">Gage, Oklahoma</a><br><a href=\"https://en.wikipedia.org/wiki/Jerusalem, New York\">Jerusalem, New York</a><br><a href=\"https://en.wikipedia.org/wiki/Natron, Oregon\">Natron, Oregon</a><br><a href=\"https://en.wikipedia.org/wiki/Blitchton, Georgia\">Blitchton, Georgia</a><br><a href=\"https://en.wikipedia.org/wiki/Claybank, Minnesota\">Claybank, Minnesota</a><br><a href=\"https://en.wikipedia.org/wiki/Earlytown, Alabama\">Earlytown, Alabama</a><br><a href=\"https://en.wikipedia.org/wiki/Alden, Colorado\">Alden, Colorado</a><br><a href=\"https://en.wikipedia.org/wiki/Sucarnoochee, Mississippi\">Sucarnoochee, Mississippi</a><br><a href=\"https://en.wikipedia.org/wiki/Greenfield Park, Michigan\">Greenfield Park, Michigan</a><br><a href=\"https://en.wikipedia.org/wiki/Kenai, Alaska\">Kenai, Alaska</a><br><a href=\"https://en.wikipedia.org/wiki/Coldwater, Kentucky\">Coldwater, Kentucky</a><br><a href=\"https://en.wikipedia.org/wiki/Haddock, Georgia\">Haddock, Georgia</a><br><a href=\"https://en.wikipedia.org/wiki/Idlewild, Michigan\">Idlewild, Michigan</a><br><a href=\"https://en.wikipedia.org/wiki/Wheeler, Michigan\">Wheeler, Michigan</a><br><a href=\"https://en.wikipedia.org/wiki/Chandler Township, Huron County, Michigan\">Chandler Township, Huron County, Michigan</a><br><a href=\"https://en.wikipedia.org/wiki/Scossa, Nevada\">Scossa, Nevada</a><br><a href=\"https://en.wikipedia.org/wiki/Gobler, Missouri\">Gobler, Missouri</a><br><a href=\"https://en.wikipedia.org/wiki/Trinity, Alabama\">Trinity, Alabama</a><br><a href=\"https://en.wikipedia.org/wiki/Princeton (town), Wisconsin\">Princeton (town), Wisconsin</a><br><a href=\"https://en.wikipedia.org/wiki/Harbor Springs, Wisconsin\">Harbor Springs, Wisconsin</a><br><a href=\"https://en.wikipedia.org/wiki/Tenstrike, Minnesota\">Tenstrike, Minnesota</a><br><a href=\"https://en.wikipedia.org/wiki/Mallet Creek, Ohio\">Mallet Creek, Ohio</a><br><a href=\"https://en.wikipedia.org/wiki/Nortonville, Kentucky\">Nortonville, Kentucky</a><br><a href=\"https://en.wikipedia.org/wiki/Twining, Michigan\">Twining, Michigan</a><br><a href=\"https://en.wikipedia.org/wiki/Lincoln, North Dakota\">Lincoln, North Dakota</a><br><a href=\"https://en.wikipedia.org/wiki/Martin, North Dakota\">Martin, North Dakota</a><br><a href=\"https://en.wikipedia.org/wiki/Carolina, Rhode Island\">Carolina, Rhode Island</a><br><a href=\"https://en.wikipedia.org/wiki/Highland, Marion County, West Virginia\">Highland, Marion County, West Virginia</a><br><a href=\"https://en.wikipedia.org/wiki/Parrish, Florida\">Parrish, Florida</a><br><a href=\"https://en.wikipedia.org/wiki/Gulfport, Mississippi\">Gulfport, Mississippi</a><br><a href=\"https://en.wikipedia.org/wiki/Beyerville, Arizona\">Beyerville, Arizona</a><br><a href=\"https://en.wikipedia.org/wiki/Skinem, Tennessee\">Skinem, Tennessee</a><br><a href=\"https://en.wikipedia.org/wiki/Elizabeth, Arkansas\">Elizabeth, Arkansas</a><br><a href=\"https://en.wikipedia.org/wiki/Trumann, Arkansas\">Trumann, Arkansas</a><br><a href=\"https://en.wikipedia.org/wiki/Barr Township, Macoupin County, Illinois\">Barr Township, Macoupin County, Illinois</a><br><a href=\"https://en.wikipedia.org/wiki/Dennis, Texas\">Dennis, Texas</a><br><a href=\"https://en.wikipedia.org/wiki/Evaline, Washington\">Evaline, Washington</a><br><a href=\"https://en.wikipedia.org/wiki/Pray, Wisconsin\">Pray, Wisconsin</a><br><a href=\"https://en.wikipedia.org/wiki/Nome, North Dakota\">Nome, North Dakota</a><br><a href=\"https://en.wikipedia.org/wiki/Golden Meadow, Louisiana\">Golden Meadow, Louisiana</a><br><a href=\"https://en.wikipedia.org/wiki/Nescopeck Township, Luzerne County, Pennsylvania\">Nescopeck Township, Luzerne County, Pennsylvania</a><br><a href=\"https://en.wikipedia.org/wiki/Lake Marshall Township, Lyon County, Minnesota\">Lake Marshall Township, Lyon County, Minnesota</a><br><a href=\"https://en.wikipedia.org/wiki/Blanchard Township, Hancock County, Ohio\">Blanchard Township, Hancock County, Ohio</a><br><a href=\"https://en.wikipedia.org/wiki/East Troy (town), Wisconsin\">East Troy (town), Wisconsin</a><br><a href=\"https://en.wikipedia.org/wiki/Clarkson, Kentucky\">Clarkson, Kentucky</a><br><a href=\"https://en.wikipedia.org/wiki/Steilacoom, Washington\">Steilacoom, Washington</a><br><a href=\"https://en.wikipedia.org/wiki/Clover Hill, Albemarle County, Virginia\">Clover Hill, Albemarle County, Virginia</a><br><a href=\"https://en.wikipedia.org/wiki/Graysville, Tennessee\">Graysville, Tennessee</a><br><a href=\"https://en.wikipedia.org/wiki/Vanceboro, Maine\">Vanceboro, Maine</a><br><a href=\"https://en.wikipedia.org/wiki/Floraton, Rutherford County, Tennessee\">Floraton, Rutherford County, Tennessee</a><br><a href=\"https://en.wikipedia.org/wiki/Navarre Beach, Florida\">Navarre Beach, Florida</a><br><a href=\"https://en.wikipedia.org/wiki/Sheehan Bridge, Kentucky\">Sheehan Bridge, Kentucky</a><br><a href=\"https://en.wikipedia.org/wiki/Ingham, Virginia\">Ingham, Virginia</a><br><a href=\"https://en.wikipedia.org/wiki/Pinkerman, Ohio\">Pinkerman, Ohio</a><br><a href=\"https://en.wikipedia.org/wiki/Eden, New York\">Eden, New York</a><br><a href=\"https://en.wikipedia.org/wiki/Paderborn, Illinois\">Paderborn, Illinois</a><br><a href=\"https://en.wikipedia.org/wiki/Tracy, Minnesota\">Tracy, Minnesota</a><br><a href=\"https://en.wikipedia.org/wiki/Milan, New Mexico\">Milan, New Mexico</a><br><a href=\"https://en.wikipedia.org/wiki/North Key Largo, Florida\">North Key Largo, Florida</a><br><a href=\"https://en.wikipedia.org/wiki/Wacahoota, Florida\">Wacahoota, Florida</a><br><a href=\"https://en.wikipedia.org/wiki/Shoshone, California\">Shoshone, California</a><br><a href=\"https://en.wikipedia.org/wiki/Petersburg, Tennessee\">Petersburg, Tennessee</a><br><a href=\"https://en.wikipedia.org/wiki/Bristow Township, Boyd County, Nebraska\">Bristow Township, Boyd County, Nebraska</a><br><a href=\"https://en.wikipedia.org/wiki/Purcell, Missouri\">Purcell, Missouri</a><br><a href=\"https://en.wikipedia.org/wiki/Hurley, Virginia\">Hurley, Virginia</a><br><a href=\"https://en.wikipedia.org/wiki/Sundance, Wyoming\">Sundance, Wyoming</a><br><a href=\"https://en.wikipedia.org/wiki/Longs Mills, Tennessee\">Longs Mills, Tennessee</a><br><a href=\"https://en.wikipedia.org/wiki/Alto, Washington\">Alto, Washington</a><br><a href=\"https://en.wikipedia.org/wiki/The Villages, Florida\">The Villages, Florida</a><br><a href=\"https://en.wikipedia.org/wiki/Locust Valley, Pennsylvania\">Locust Valley, Pennsylvania</a><br><a href=\"https://en.wikipedia.org/wiki/Wrenshall, Minnesota\">Wrenshall, Minnesota</a><br><a href=\"https://en.wikipedia.org/wiki/Merrifield, Virginia\">Merrifield, Virginia</a><br><a href=\"https://en.wikipedia.org/wiki/Lake Fork Township, Logan County, Illinois\">Lake Fork Township, Logan County, Illinois</a><br><a href=\"https://en.wikipedia.org/wiki/Barboursville, Virginia\">Barboursville, Virginia</a><br><a href=\"https://en.wikipedia.org/wiki/Woodville, Alabama\">Woodville, Alabama</a><br><a href=\"https://en.wikipedia.org/wiki/Hindsboro, Illinois\">Hindsboro, Illinois</a><br><a href=\"https://en.wikipedia.org/wiki/Rudds Mill, Michigan\">Rudds Mill, Michigan</a><br><a href=\"https://en.wikipedia.org/wiki/Smithfield, Nebraska\">Smithfield, Nebraska</a><br><a href=\"https://en.wikipedia.org/wiki/Bakersfield, Missouri\">Bakersfield, Missouri</a><br><a href=\"https://en.wikipedia.org/wiki/Cartwright, Texas\">Cartwright, Texas</a><br><a href=\"https://en.wikipedia.org/wiki/Montpelier Township, Stutsman County, North Dakota\">Montpelier Township, Stutsman County, North Dakota</a><br><a href=\"https://en.wikipedia.org/wiki/Mazomanie, Wisconsin\">Mazomanie, Wisconsin</a><br><a href=\"https://en.wikipedia.org/wiki/Wilcox, Pennsylvania\">Wilcox, Pennsylvania</a><br><a href=\"https://en.wikipedia.org/wiki/Alexandria, Ohio\">Alexandria, Ohio</a><br><a href=\"https://en.wikipedia.org/wiki/Patton, Pennsylvania\">Patton, Pennsylvania</a><br><a href=\"https://en.wikipedia.org/wiki/Clay Township, White County, Arkansas\">Clay Township, White County, Arkansas</a><br><a href=\"https://en.wikipedia.org/wiki/Arvada, Colorado\">Arvada, Colorado</a><br><a href=\"https://en.wikipedia.org/wiki/Portage Township, Hancock County, Ohio\">Portage Township, Hancock County, Ohio</a><br><a href=\"https://en.wikipedia.org/wiki/Parkdale, Oregon\">Parkdale, Oregon</a><br><a href=\"https://en.wikipedia.org/wiki/Russia, New York\">Russia, New York</a><br><a href=\"https://en.wikipedia.org/wiki/Boardman Township, Michigan\">Boardman Township, Michigan</a><br><a href=\"https://en.wikipedia.org/wiki/Rapid River Township, Lake of the Woods County, Minnesota\">Rapid River Township, Lake of the Woods County, Minnesota</a><br><a href=\"https://en.wikipedia.org/wiki/Harlan, Kentucky\">Harlan, Kentucky</a><br><a href=\"https://en.wikipedia.org/wiki/Cedar Bluff, Alabama\">Cedar Bluff, Alabama</a><br><a href=\"https://en.wikipedia.org/wiki/Irvings Crest, California\">Irvings Crest, California</a><br><a href=\"https://en.wikipedia.org/wiki/Winnebago Park, Wisconsin\">Winnebago Park, Wisconsin</a><br><a href=\"https://en.wikipedia.org/wiki/Crowell, Texas\">Crowell, Texas</a><br><a href=\"https://en.wikipedia.org/wiki/Pfeiffer, Arkansas\">Pfeiffer, Arkansas</a><br><a href=\"https://en.wikipedia.org/wiki/Bridge Valley, Texas\">Bridge Valley, Texas</a><br><a href=\"https://en.wikipedia.org/wiki/Chase Township, Michigan\">Chase Township, Michigan</a><br><a href=\"https://en.wikipedia.org/wiki/Canisteo (town), New York\">Canisteo (town), New York</a><br><a href=\"https://en.wikipedia.org/wiki/Wagon Mound, New Mexico\">Wagon Mound, New Mexico</a><br><a href=\"https://en.wikipedia.org/wiki/Sherwood, Wisconsin\">Sherwood, Wisconsin</a><br><a href=\"https://en.wikipedia.org/wiki/Penn Forest, Virginia\">Penn Forest, Virginia</a><br><a href=\"https://en.wikipedia.org/wiki/Fish Pond, Kentucky\">Fish Pond, Kentucky</a><br><a href=\"https://en.wikipedia.org/wiki/Rosecrans, Illinois\">Rosecrans, Illinois</a><br><a href=\"https://en.wikipedia.org/wiki/Marion Township, Lee County, Illinois\">Marion Township, Lee County, Illinois</a>"
      ],
      "text/plain": [
       "<IPython.core.display.HTML object>"
      ]
     },
     "execution_count": 486,
     "metadata": {},
     "output_type": "execute_result"
    }
   ],
   "source": [
    "from IPython.display import HTML\n",
    "HTML('<br>'.join([f'<a href=\"{wikipedia_standard_url(title)}\">{title}</a>' for title in np.random.choice(communities_all_1, 250)]))"
   ]
  },
  {
   "cell_type": "markdown",
   "metadata": {},
   "source": [
    "---\n",
    "#### Newtypes"
   ]
  },
  {
   "cell_type": "code",
   "execution_count": 519,
   "metadata": {
    "collapsed": true,
    "jupyter": {
     "outputs_hidden": true
    }
   },
   "outputs": [
    {
     "data": {
      "text/plain": [
       "[71209,\n",
       " 71210,\n",
       " 71211,\n",
       " 71212,\n",
       " 71213,\n",
       " 71214,\n",
       " 71215,\n",
       " 71216,\n",
       " 71217,\n",
       " 71218,\n",
       " 71219,\n",
       " 71220,\n",
       " 71221,\n",
       " 71222,\n",
       " 71223,\n",
       " 71224,\n",
       " 71225,\n",
       " 71226,\n",
       " 71227,\n",
       " 71228,\n",
       " 71229,\n",
       " 71230,\n",
       " 71231,\n",
       " 71232,\n",
       " 71233,\n",
       " 71234,\n",
       " 71235,\n",
       " 71236,\n",
       " 71237,\n",
       " 71238,\n",
       " 71239,\n",
       " 71240,\n",
       " 71241,\n",
       " 71242,\n",
       " 71243,\n",
       " 71244,\n",
       " 71245,\n",
       " 71246,\n",
       " 71247,\n",
       " 71248,\n",
       " 71249,\n",
       " 71250,\n",
       " 71251,\n",
       " 71252,\n",
       " 71253,\n",
       " 71254,\n",
       " 71255,\n",
       " 71256,\n",
       " 71257,\n",
       " 71258,\n",
       " 71259,\n",
       " 71260,\n",
       " 71261,\n",
       " 71262,\n",
       " 71263,\n",
       " 71264,\n",
       " 71265,\n",
       " 71266,\n",
       " 71267,\n",
       " 71268,\n",
       " 71269,\n",
       " 71270,\n",
       " 71271,\n",
       " 71272,\n",
       " 71273,\n",
       " 71274,\n",
       " 71275,\n",
       " 71276,\n",
       " 71277,\n",
       " 71278,\n",
       " 71279,\n",
       " 71280,\n",
       " 71281,\n",
       " 71282,\n",
       " 71283,\n",
       " 71284,\n",
       " 71285,\n",
       " 71286,\n",
       " 71287,\n",
       " 71288,\n",
       " 71289,\n",
       " 71290,\n",
       " 71291,\n",
       " 71292,\n",
       " 71293,\n",
       " 71294,\n",
       " 71295,\n",
       " 71296,\n",
       " 71297,\n",
       " 71298,\n",
       " 71299,\n",
       " 71300,\n",
       " 71301,\n",
       " 71302,\n",
       " 71303,\n",
       " 71304,\n",
       " 71305,\n",
       " 71306,\n",
       " 71307,\n",
       " 71308,\n",
       " 71309,\n",
       " 71310,\n",
       " 71311,\n",
       " 71312,\n",
       " 71313]"
      ]
     },
     "execution_count": 519,
     "metadata": {},
     "output_type": "execute_result"
    }
   ],
   "source": [
    "def test_1(x):\n",
    "    with open('communities_all.txt') as f:\n",
    "        return len(f.readlines()) + x\n",
    "\n",
    "sc.parallelize(range(105)).map(test_1).collect()"
   ]
  },
  {
   "cell_type": "code",
   "execution_count": 459,
   "metadata": {},
   "outputs": [],
   "source": []
  },
  {
   "cell_type": "markdown",
   "metadata": {},
   "source": [
    "---"
   ]
  },
  {
   "cell_type": "markdown",
   "metadata": {},
   "source": [
    "#### Investigations"
   ]
  },
  {
   "cell_type": "code",
   "execution_count": 514,
   "metadata": {
    "collapsed": true,
    "jupyter": {
     "outputs_hidden": true
    }
   },
   "outputs": [
    {
     "name": "stdout",
     "output_type": "stream",
     "text": [
      "<mediawiki version=\"0.10\" xml:lang=\"en\" xmlns=\"http://www.mediawiki.org/xml/export-0.10/\" xmlns:xsi=\"http://www.w3.org/2001/XMLSchema-instance\" xsi:schemalocation=\"http://www.mediawiki.org/xml/export-0.10/ http://www.mediawiki.org/xml/export-0.10.xsd\">\n",
      "<siteinfo>\n",
      "<sitename>Wikipedia</sitename>\n",
      "<dbname>enwiki</dbname>\n",
      "<base/>https://en.wikipedia.org/wiki/Main_Page\n",
      "    <generator>MediaWiki 1.35.0-wmf.41</generator>\n",
      "<case>first-letter</case>\n",
      "<namespaces>\n",
      "<namespace case=\"first-letter\" key=\"-2\">Media</namespace>\n",
      "<namespace case=\"first-letter\" key=\"-1\">Special</namespace>\n",
      "<namespace case=\"first-letter\" key=\"0\"></namespace>\n",
      "<namespace case=\"first-letter\" key=\"1\">Talk</namespace>\n",
      "<namespace case=\"first-letter\" key=\"2\">User</namespace>\n",
      "<namespace case=\"first-letter\" key=\"3\">User talk</namespace>\n",
      "<namespace case=\"first-letter\" key=\"4\">Wikipedia</namespace>\n",
      "<namespace case=\"first-letter\" key=\"5\">Wikipedia talk</namespace>\n",
      "<namespace case=\"first-letter\" key=\"6\">File</namespace>\n",
      "<namespace case=\"first-letter\" key=\"7\">File talk</namespace>\n",
      "<namespace case=\"first-letter\" key=\"8\">MediaWiki</namespace>\n",
      "<namespace case=\"first-letter\" key=\"9\">MediaWiki talk</namespace>\n",
      "<namespace case=\"first-letter\" key=\"10\">Template</namespace>\n",
      "<namespace case=\"first-letter\" key=\"11\">Template talk</namespace>\n",
      "<namespace case=\"first-letter\" key=\"12\">Help</namespace>\n",
      "<namespace case=\"first-letter\" key=\"13\">Help talk</namespace>\n",
      "<namespace case=\"first-letter\" key=\"14\">Category</namespace>\n",
      "<namespace case=\"first-letter\" key=\"15\">Category talk</namespace>\n",
      "<namespace case=\"first-letter\" key=\"100\">Portal</namespace>\n",
      "<namespace case=\"first-letter\" key=\"101\">Portal talk</namespace>\n",
      "<namespace case=\"first-letter\" key=\"108\">Book</namespace>\n",
      "<namespace case=\"first-letter\" key=\"109\">Book talk</namespace>\n",
      "<namespace case=\"first-letter\" key=\"118\">Draft</namespace>\n",
      "<namespace case=\"first-letter\" key=\"119\">Draft talk</namespace>\n",
      "<namespace case=\"first-letter\" key=\"446\">Education Program</namespace>\n",
      "<namespace case=\"first-letter\" key=\"447\">Education Program talk</namespace>\n",
      "<namespace case=\"first-letter\" key=\"710\">TimedText</namespace>\n",
      "<namespace case=\"first-letter\" key=\"711\">TimedText talk</namespace>\n",
      "<namespace case=\"first-letter\" key=\"828\">Module</namespace>\n",
      "<namespace case=\"first-letter\" key=\"829\">Module talk</namespace>\n",
      "<namespace case=\"first-letter\" key=\"2300\">Gadget</namespace>\n",
      "<namespace case=\"first-letter\" key=\"2301\">Gadget talk</namespace>\n",
      "<namespace case=\"case-sensitive\" key=\"2302\">Gadget definition</namespace>\n",
      "<namespace case=\"case-sensitive\" key=\"2303\">Gadget definition talk</namespace>\n",
      "</namespaces>\n",
      "</siteinfo>\n",
      "<page>\n",
      "<title>Sopchoppy, Florida</title>\n",
      "<ns>0</ns>\n",
      "<id>109844</id>\n",
      "<revision>\n",
      "<id>965695812</id>\n",
      "<parentid>965666501</parentid>\n",
      "<timestamp>2020-07-02T21:29:06Z</timestamp>\n",
      "<contributor>\n",
      "<username>AnomieBOT</username>\n",
      "<id>7611264</id>\n",
      "</contributor>\n",
      "<comment>Rescuing orphaned refs (\"USCensusEst2018\" from rev 963734837)</comment>\n",
      "<model>wikitext</model>\n",
      "<format>text/x-wiki</format>\n",
      "<text bytes=\"11983\" xml:space=\"preserve\">{{Infobox settlement\n",
      "&lt;!-- Basic info  ----------------&gt;\n",
      "|official_name            = Sopchoppy, Florida\n",
      "|other_name               = \n",
      "|native_name              = &lt;!-- for cities whose native name is not in English --&gt;\n",
      "|nickname                 = \n",
      "|settlement_type          = [[City]]\n",
      "|motto                    = &lt;!-- images and maps  -----------&gt;\n",
      "|image_skyline            = \n",
      "|imagesize                = \n",
      "|image_caption            = \n",
      "|image_flag               = \n",
      "|flag_size                = \n",
      "|image_seal               = \n",
      "|seal_size                = \n",
      "|image_shield             = \n",
      "|shield_size              = \n",
      "|image_blank_emblem       = \n",
      "|blank_emblem_type        = \n",
      "|blank_emblem_size        = \n",
      "|image_map                = Wakulla_County_Florida_Incorporated_and_Unincorporated_areas_Sopchoppy_Highlighted.svg\n",
      "|mapsize                  = 250x200px\n",
      "|map_caption              = Location in [[Wakulla County, Florida|Wakulla County]] and the state of [[Florida]]\n",
      "|image_map1               = \n",
      "|mapsize1                 = \n",
      "|map_caption1             = \n",
      "|image_dot_map            = \n",
      "|dot_mapsize              = \n",
      "|dot_map_caption          = \n",
      "|dot_x                    = \n",
      "|dot_y                    = \n",
      "|pushpin_map              = &lt;!-- the name of a location map as per http://en.wikipedia.org/wiki/Template:Location_map --&gt;\n",
      "|pushpin_label_position   = &lt;!-- the position of the pushpin label: left, right, top, bottom, none --&gt;\n",
      "|pushpin_map_caption      = \n",
      "|pushpin_mapsize          = &lt;!-- Location ------------------&gt;\n",
      "|subdivision_type         = [[List of sovereign states|Country]]\n",
      "|subdivision_name         = {{flag|United States}}\n",
      "|subdivision_type1        = [[U.S. state|State]]\n",
      "|subdivision_name1        = {{flag|Florida}}\n",
      "|subdivision_type2        = [[List of counties in Florida|County]]\n",
      "|subdivision_name2        = {{noflag|[[Wakulla County, Florida|Wakulla]]}}\n",
      "|subdivision_type3        = \n",
      "|subdivision_name3        = \n",
      "|subdivision_type4        = \n",
      "|subdivision_name4        = &lt;!-- Politics -----------------&gt;\n",
      "|government_footnotes     = \n",
      "|government_type          = \n",
      "|leader_title             = \n",
      "|leader_name              = \n",
      "|leader_title1            = &lt;!-- for places with, say, both a mayor and a city manager --&gt;\n",
      "|leader_name1             = \n",
      "|leader_title2            = \n",
      "|leader_name2             = \n",
      "|leader_title3            = \n",
      "|leader_name3             = \n",
      "|leader_title4            = \n",
      "|leader_name4             = \n",
      "|established_title        = &lt;!-- Settled --&gt;\n",
      "|established_date         = \n",
      "|established_title2       = &lt;!-- Incorporated (town) --&gt;\n",
      "|established_date2        = \n",
      "|established_title3       = &lt;!-- Incorporated (city) --&gt;\n",
      "|established_date3        = &lt;!-- Area    ---------------------&gt;\n",
      "|area_magnitude           = \n",
      "|unit_pref                = Imperial\n",
      "|area_footnotes           = &lt;ref name=\"CenPopGazetteer2019\"&gt;{{cite web|title=2019 U.S. Gazetteer Files|url=https://www2.census.gov/geo/docs/maps-data/data/gazetteer/2019_Gazetteer/2019_gaz_place_12.txt|publisher=United States Census Bureau|accessdate=July 2, 2020}}&lt;/ref&gt;\n",
      "|area_total_km2           = 4.35\n",
      "|area_land_km2            = 4.35\n",
      "|area_water_km2           = 0.00\n",
      "|area_total_sq_mi         = 1.68\n",
      "|area_land_sq_mi          = 1.68\n",
      "|area_water_sq_mi         = 0.00\n",
      "|area_water_percent       = \n",
      "|area_urban_km2           = \n",
      "|area_urban_sq_mi         = \n",
      "|area_metro_km2           = \n",
      "|area_metro_sq_mi         = \n",
      "|area_blank1_title        = \n",
      "|area_blank1_km2          = \n",
      "|area_blank1_sq_mi        = &lt;!-- Population   -----------------------&gt;\n",
      "|population_as_of         = [[2010 United States Census|2010]]\n",
      "|population_footnotes     = \n",
      "|population_note          = \n",
      "|population_total         = 457\n",
      "|population_density_km2   = 113.19\n",
      "|population_density_sq_mi = 293.21\n",
      "|population_metro         = \n",
      "|population_density_metro_km2     = \n",
      "|population_density_metro_sq_mi   = \n",
      "|population_urban                 = \n",
      "|population_density_urban_km2     = \n",
      "|population_density_urban_sq_mi   = \n",
      "|population_blank1_title          = \n",
      "|population_blank1                = \n",
      "|population_density_blank1_km2    = \n",
      "|population_density_blank1_sq_mi  = &lt;!-- General information  ---------------&gt;\n",
      "|timezone                 = [[North American Eastern Time Zone|Eastern (EST)]]\n",
      "|utc_offset               = -5\n",
      "|timezone_DST             = EDT\n",
      "|utc_offset_DST           = -4\n",
      "|coordinates              = {{coord|30|3|36|N|84|29|28|W|region:US_type:city|display=inline,title}}\n",
      "|elevation_footnotes      = &lt;!--for references: use &lt;ref&gt; &lt;/ref&gt; tags--&gt;\n",
      "|elevation_m              = 9\n",
      "|elevation_ft             = 30\n",
      "&lt;!-- Area/postal codes &amp; others --------&gt;\n",
      "|postal_code_type         = [[ZIP code]]\n",
      "|postal_code              = 32358\n",
      "|area_code                = [[Area code 850|850]]\n",
      "|blank_name               = [[Federal Information Processing Standard|FIPS code]]\n",
      "|blank_info               = 12-66925&lt;ref name=\"GR2\"&gt;{{cite web|url=https://www.census.gov|publisher=[[United States Census Bureau]]|accessdate=2008-01-31|title=U.S. Census website}}&lt;/ref&gt;\n",
      "|blank1_name              = [[Geographic Names Information System|GNIS]] feature ID\n",
      "|blank1_info              = 0306416&lt;ref name=\"GR3\"&gt;{{cite web|url=http://geonames.usgs.gov|accessdate=2008-01-31|title=US Board on Geographic Names|publisher=[[United States Geological Survey]]|date=2007-10-25}}&lt;/ref&gt;\n",
      "|website                  = {{URL|http://www.sopchoppy.org/}}\n",
      "|footnotes                = \n",
      "|pop_est_as_of = 2019\n",
      "|pop_est_footnotes = &lt;ref name=\"USCensusEst2019CenPopScriptOnlyDirtyFixDoNotUse\"/&gt;\n",
      "|population_est = 492\n",
      "}}\n",
      "[[Image:sopchoppygymnasium3.jpg|thumb|[[Old Sopchoppy High School Gymnasium]].]]\n",
      "'''Sopchoppy''' is a city in [[Wakulla County, Florida|Wakulla County]], [[Florida]], United States. It is part of the [[Tallahassee, Florida]] [[Tallahassee, Florida Metropolitan Statistical Area|Metropolitan Statistical Area]]. The population was 457 at the 2010 census. As of 2018, the population was estimated by the [[U.S. Census Bureau]] to be 482.&lt;ref name=\"USCensusEst2018\"&gt;{{cite web|url=https://www.census.gov/programs-surveys/popest/data/tables.2018.html|title=Population and Housing Unit Estimates|accessdate=March 14, 2020}}&lt;/ref&gt;  \n",
      "[[Ochlockonee River State Park]] is nearby.\n",
      "\n",
      "==Geography==\n",
      "\n",
      "Sopchoppy is located at {{coord|30|3|36|N|84|29|28|W|type:city}} (30.059994, -84.491084).&lt;ref name=\"GR1\"&gt;{{cite web|url=https://www.census.gov/geographies/reference-files/time-series/geo/gazetteer-files.html|publisher=[[United States Census Bureau]]|accessdate=2011-04-23|date=2011-02-12|title=US Gazetteer files: 2010, 2000, and 1990}}&lt;/ref&gt;\n",
      "\n",
      "According to the [[United States Census Bureau]], the city has a total area of 1.5&amp;nbsp;square miles (3.9&amp;nbsp;km².), all land.\n",
      "\n",
      "==History==\n",
      "The town's name is a corruption of \"Lockchoppe\", derived from the [[Muskogean languages|Muskogee]] ''lokchapi'' (''lokcha'' (acorn) / ''api'' (stem)), which was the old name of the nearby river.&lt;ref&gt;{{cite web|url=http://www.flheritage.com/facts/reports/names/city3.cfm|title=Name Origins of Florida Places @ Florida OCHP|last=|first=|date=|website=www.flheritage.com|access-date=}}&lt;/ref&gt;\n",
      "\n",
      "Sopchoppy came into existence in 1894 after the [[Carrabelle, Tallahassee and Georgia Railroad|CT&amp;G Railroad Company]] built a railway through the area. It [[plat]]ted the town on property it already owned in the area, across the river from Greenough. To encourage people to settle the area, the railroad engaged in an advertising campaign, exaggerating the quality of the soil and climate.&lt;ref&gt;{{cite web|url=http://www.littletownmart.com/fdh/sopchoppy.htm|title=The Sopchoppy River (Florida)|website=www.littletownmart.com}}&lt;/ref&gt;\n",
      "\n",
      "The Sopchoppy Depot was built in 1891. Now a museum, it was built for the [[Carrabelle, Tallahassee &amp; Georgia Railroad]]  (G. F. &amp; A.), and referred to colloquially as the Gopher, Frog &amp; Alligator, Company, which was  absorbed by the [[Georgia, Florida and Alabama Railroad]]. The line began in 1893 and closed in 1946. It transported lumber, turpentine and related products, honey, farm produce, soldiers, fish and oysters packed in barrels in ice as well as [[sturgeon]] caviar from the Sopchoppy River, frog legs, and catfish.&lt;ref&gt;http://www.visitwakulla.com/Things-to-Do/Historic-Sopchoppy-Train-Depot&lt;/ref&gt;\n",
      "\n",
      "==Festivals==\n",
      "\n",
      "The town is home to the annual Worm Grunting Festival, a town celebration named in honor of a worm grunting — also known as [[worm charming]] — a method for driving worms to the surface of the earth. Worm charmers hammer wooden stakes into the ground, then rub them with metal slabs. The resulting vibrations cause worms to surface, whereupon they are typically gathered and used or sold for fishing bait.&lt;ref&gt;{{cite web|url=http://www.wctv.tv/community/inthespotlight/headlines/In_The_Spotlight_Worm_Gruntin_Festival_119252729.html|title=In The Spotlight: Worm Gruntin Festival|website=www.wctv.tv|url-status=dead|archive-url=https://web.archive.org/web/20140808074552/http://www.wctv.tv/community/inthespotlight/headlines/In_The_Spotlight_Worm_Gruntin_Festival_119252729.html|archive-date=2014-08-08|df=}}&lt;/ref&gt;\n",
      "\n",
      "Part of [[Tim Dorsey]]'s 2017 novel ''Clownfish Blues'' is set in Sopchoppy and worm grunting is a plot element.\n",
      "\n",
      "==Demographics==\n",
      "{{US Census population\n",
      "|1960= 450\n",
      "|1970= 460\n",
      "|1980= 444\n",
      "|1990= 367\n",
      "|2000= 426\n",
      "|2010= 457\n",
      "|estyear=2019\n",
      "|estimate=492\n",
      "|estref=&lt;ref name=\"USCensusEst2019CenPopScriptOnlyDirtyFixDoNotUse\"&gt;{{cite web|url=https://www.census.gov/programs-surveys/popest/data/tables.2019.html|date=May 24, 2020|title=Population and Housing Unit Estimates|publisher=United States Census Bureau|accessdate=May 27, 2020}}&lt;/ref&gt;\n",
      "|footnote=U.S. Decennial Census&lt;ref name=\"DecennialCensus\"&gt;{{cite web|url=https://www.census.gov/programs-surveys/decennial-census.html|title=Census of Population and Housing|publisher=Census.gov|accessdate=June 4, 2015}}&lt;/ref&gt;\n",
      "}}\n",
      "\n",
      "As of the 2000 [[census]],&lt;ref name=\"GR2\" /&gt; there were 426 people, 178 households, and 111 families residing in the city.  The [[population density]] was 280.4 people per square mile (108.2/km²).  There were 216 housing units at an average density of 142.2 per square mile (54.9/km²).  The racial makeup of the city was 78.40% [[White (U.S. Census)|White]], 18.08% [[African American (U.S. Census)|African American]], 1.17% [[Native American (U.S. Census)|Native American]], 0.70% [[Asian (U.S. Census)|Asian]], 1.17% from [[Race (United States Census)|other races]], and 0.47% from two or more races. [[Hispanic (U.S. Census)|Hispanic]] or [[Latino (U.S. Census)|Latino]] of any race were 3.99% of the population.\n",
      "\n",
      "There were 178 households out of which 32.0% had children under the age of 18 living with them, 43.8% were [[Marriage|married couples]] living together, 15.2% had a female householder with no husband present, and 37.6% were non-families. 32.6% of all households were made up of individuals and 11.2% had someone living alone who was 65 years of age or older.  The average household size was 2.39 and the average family size was 3.09.\n",
      "\n",
      "In the city, the population was spread out with 26.8% under the age of 18, 8.2% from 18 to 24, 29.1% from 25 to 44, 22.5% from 45 to 64, and 13.4% who were 65 years of age or older.  The median age was 38 years. For every 100 females, there were 86.0 males.  For every 100 females age 18 and over, there were 80.3 males.\n",
      "\n",
      "The median income for a household in the city was $29,583, and the median income for a family was $33,750. Males had a median income of $30,833 versus $17,188 for females. The [[per capita income]] for the city was $14,165.  About 14.4% of families and 17.1% of the population were below the [[poverty line]], including 11.9% of those under age 18 and 48.2% of those age 65 or over.\n",
      "\n",
      "==References==\n",
      "{{Reflist}}\n",
      "\n",
      "==External links==\n",
      "\n",
      "{{Wakulla County, Florida}}\n",
      "\n",
      "{{authority control}}\n",
      "\n",
      "[[Category:Cities in Wakulla County, Florida]]\n",
      "[[Category:Tallahassee metropolitan area]]\n",
      "[[Category:Populated places established in 1894]]\n",
      "[[Category:Cities in Florida]]\n",
      "[[Category:1894 establishments in Florida]]</text>\n",
      "<sha1>l9n70ylhpj9nrmcfxje8vgwtepc859z</sha1>\n",
      "</revision>\n",
      "</page>\n",
      "</mediawiki>\n",
      "\n"
     ]
    }
   ],
   "source": [
    "print(BeautifulSoup(wikipedia_export_get(np.random.choice(communities_all_1))))"
   ]
  },
  {
   "cell_type": "code",
   "execution_count": null,
   "metadata": {},
   "outputs": [],
   "source": []
  },
  {
   "cell_type": "code",
   "execution_count": null,
   "metadata": {},
   "outputs": [],
   "source": []
  }
 ],
 "metadata": {
  "kernelspec": {
   "display_name": "Python 3",
   "language": "python",
   "name": "python3"
  },
  "language_info": {
   "codemirror_mode": {
    "name": "ipython",
    "version": 3
   },
   "file_extension": ".py",
   "mimetype": "text/x-python",
   "name": "python",
   "nbconvert_exporter": "python",
   "pygments_lexer": "ipython3",
   "version": "3.8.3"
  }
 },
 "nbformat": 4,
 "nbformat_minor": 4
}
