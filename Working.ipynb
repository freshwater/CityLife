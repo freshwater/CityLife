{
 "cells": [
  {
   "cell_type": "markdown",
   "metadata": {},
   "source": [
    "---\n",
    "### Util."
   ]
  },
  {
   "cell_type": "code",
   "execution_count": 1,
   "metadata": {},
   "outputs": [],
   "source": [
    "import requests\n",
    "from bs4 import BeautifulSoup\n",
    "from IPython.display import HTML\n",
    "import pyspark as ps\n",
    "import pandas as pd\n",
    "import numpy as np\n",
    "import time\n",
    "\n",
    "response_cache = {}\n",
    "\n",
    "def http_get(url):\n",
    "    if response := response_cache.get(url):\n",
    "        return response\n",
    "    else:\n",
    "        response = requests.request(url=url, method=\"GET\")\n",
    "        counties_list_html = response.content\n",
    "        response_cache[url] = counties_list_html\n",
    "        \n",
    "        return response_cache[url]\n",
    "\n",
    "spark = (ps.sql.SparkSession\n",
    "         .builder\n",
    "         .master('local[8]')\n",
    "         .appName('lecture')\n",
    "         .getOrCreate())\n",
    "\n",
    "sc = spark.sparkContext"
   ]
  },
  {
   "cell_type": "code",
   "execution_count": 3,
   "metadata": {},
   "outputs": [],
   "source": [
    "def wikipedia_export_get(title):\n",
    "    xml = http_get(\"https://en.wikipedia.org/wiki/Special:Export/\" + title)\n",
    "    \n",
    "    if b'<redirect title' in xml:\n",
    "        return wikipedia_export_get(title=BeautifulSoup(xml).select('redirect')[0]['title'])\n",
    "    else:\n",
    "        return xml\n",
    "\n",
    "def wikipedia_standard_url(title):\n",
    "    return \"https://en.wikipedia.org/wiki/\" + title\n",
    "\n",
    "def wikipedia_infobox_key_values(text):\n",
    "    \"\"\"\n",
    "    {{Infobox settlement\n",
    "    | name = Dooley\n",
    "    | settlement_type = [[Ghost town]]\n",
    "    | image_skyline = \n",
    "    | imagesize =\n",
    "    | image_caption = \n",
    "    | pushpin_map = Montana#USA\n",
    "    | pushpin_label_position = left\n",
    "    | map_caption = Location of Dooley in Montana\n",
    "    | coordinates_footnotes = <ref>{{cite gnis |id=770722 |name=Dooley}}</ref>\n",
    "    | subdivision_type = [[List of sovereign states|Country]]\n",
    "    | subdivision_name = United States\n",
    "    | subdivision_type1 = [[U.S. state|State]]\n",
    "    | subdivision_name1 = [[Montana]]\n",
    "    | subdivision_type2 = [[List of counties in Montana|County]]\n",
    "    | subdivision_name2 = [[Sheridan County, Montana|Sheridan]]\n",
    "    | established_title = Established\n",
    "    | established_date = 1913\n",
    "    | named_for = \n",
    "    | extinct_title = Abandoned\n",
    "    | extinct_date = 1957\n",
    "    | elevation_ft = 2461\n",
    "    | coordinates = {{coord|48|52|52|N|104|23|22|W|region:US-MT|display=inline,title}}\n",
    "    }}\n",
    "    \"\"\"\n",
    "    \n",
    "    import re\n",
    "    \n",
    "    regex = r\"^\\s*\\|\\s*(.+?)\\s*=(\\s*|(\\s*(.*)\\s*))$\"\n",
    "    key_values = re.findall(regex, text, re.MULTILINE)\n",
    "\n",
    "    return [(key, value) for key, _, _, value in key_values]\n",
    "\n",
    "def wikipedia_infobox_key_values_non_empty(text):\n",
    "    return [(key, value) for key, value in wikipedia_infobox_key_values(text) if value != '']"
   ]
  },
  {
   "cell_type": "markdown",
   "metadata": {},
   "source": [
    " "
   ]
  },
  {
   "cell_type": "markdown",
   "metadata": {},
   "source": [
    "---"
   ]
  },
  {
   "cell_type": "markdown",
   "metadata": {},
   "source": [
    "### Init!"
   ]
  },
  {
   "cell_type": "code",
   "execution_count": 26,
   "metadata": {},
   "outputs": [
    {
     "name": "stdout",
     "output_type": "stream",
     "text": [
      "71208 data/communities_all.txt\n"
     ]
    }
   ],
   "source": [
    "!wc -l data/communities_all.txt"
   ]
  },
  {
   "cell_type": "markdown",
   "metadata": {},
   "source": [
    "##### Split list of communities into smaller chunks to make bulk downloads easier\n",
    "I had trouble doing a bulk download on the whole list."
   ]
  },
  {
   "cell_type": "code",
   "execution_count": null,
   "metadata": {},
   "outputs": [],
   "source": [
    "# example\n",
    "cat communities_all.txt | awk 'NR >= 60001 && NR <= 90000 {print}' > communities--60_001--90_000.txt"
   ]
  },
  {
   "cell_type": "markdown",
   "metadata": {},
   "source": [
    "##### From https://en.wikipedia.org/wiki/Special:Export/"
   ]
  },
  {
   "cell_type": "code",
   "execution_count": 4,
   "metadata": {},
   "outputs": [
    {
     "name": "stdout",
     "output_type": "stream",
     "text": [
      "CPU times: user 1min 57s, sys: 6.41 s, total: 2min 3s\n",
      "Wall time: 2min 6s\n"
     ]
    },
    {
     "data": {
      "text/plain": [
       "64971"
      ]
     },
     "execution_count": 4,
     "metadata": {},
     "output_type": "execute_result"
    }
   ],
   "source": [
    "%%time\n",
    "\n",
    "filenames = ['data/communities--00_001--30_000.xml',\n",
    "             'data/communities--30_001--60_000.xml',\n",
    "             'data/communities--60_001--90_000.xml']\n",
    "\n",
    "pages_parsed = []\n",
    "for filename in filenames:\n",
    "    with open(filename) as f:\n",
    "        parsed = BeautifulSoup(f.read())\n",
    "        pages_parsed += parsed.select('mediawiki > page')\n",
    "        \n",
    "len(pages_parsed)"
   ]
  },
  {
   "cell_type": "markdown",
   "metadata": {},
   "source": [
    "##### Missing\n",
    "Page doesn't exist, may be a redirect, not be made yet (was a red link), potential typos, etc."
   ]
  },
  {
   "cell_type": "code",
   "execution_count": 5,
   "metadata": {},
   "outputs": [],
   "source": [
    "titles_all = sc.textFile('data/communities_all.txt')\n",
    "titles_parsed = [page.select('title')[0].getText().strip() for page in pages_parsed]\n",
    "\n",
    "missing = list(set(titles_all.collect()).difference(titles_parsed))"
   ]
  },
  {
   "cell_type": "markdown",
   "metadata": {},
   "source": [
    "##### Redirects\n",
    "From missing, find those which are redirects"
   ]
  },
  {
   "cell_type": "code",
   "execution_count": 9,
   "metadata": {},
   "outputs": [
    {
     "data": {
      "text/html": [
       "<div style=\"display: flex; width: 100%; flex-flow: wrap\">[<div style=\"flex: reflow\">(<b></b><span style=\"color: gray\">False</span>, </td><td><a href=\"https://en.wikipedia.org/wiki/Myers Mills, Ohio\">Myers Mills, Ohio</a>)</div>,&nbsp;<div style=\"flex: reflow\">(<b></b><span style=\"color: gray\">False</span>, </td><td><a href=\"https://en.wikipedia.org/wiki/Bevan, Ohio\">Bevan, Ohio</a>)</div>,&nbsp;<div style=\"flex: reflow\">(<b></b><span style=\"color: gray\">False</span>, </td><td><a href=\"https://en.wikipedia.org/wiki/St. Tammany Corner, Louisiana\">St. Tammany Corner, Louisiana</a>)</div>,&nbsp;<div style=\"flex: reflow\">(<b></b><span style=\"color: gray\">False</span>, </td><td><a href=\"https://en.wikipedia.org/wiki/Lincoln, Kentucky\">Lincoln, Kentucky</a>)</div>,&nbsp;<div style=\"flex: reflow\">(<b></b><span style=\"color: gray\">False</span>, </td><td><a href=\"https://en.wikipedia.org/wiki/Hugo Township, Steele County, North Dakota\">Hugo Township, Steele County, North Dakota</a>)</div>,&nbsp;<div style=\"flex: reflow\">(<b></b><span style=\"color: gray\">False</span>, </td><td><a href=\"https://en.wikipedia.org/wiki/American House, California\">American House, California</a>)</div>,&nbsp;<div style=\"flex: reflow\">(<b></b><span style=\"color: gray\">False</span>, </td><td><a href=\"https://en.wikipedia.org/wiki/Irwin, Kentucky\">Irwin, Kentucky</a>)</div>,&nbsp;<div style=\"flex: reflow\">(<b></b><span style=\"color: gray\">False</span>, </td><td><a href=\"https://en.wikipedia.org/wiki/San Felipe Pueblo Ruin\">San Felipe Pueblo Ruin</a>)</div>,&nbsp;<div style=\"flex: reflow\">(<b></b><span style=\"color: gray\">False</span>, </td><td><a href=\"https://en.wikipedia.org/wiki/Lanier, Florida\">Lanier, Florida</a>)</div>,&nbsp;<div style=\"flex: reflow\">(<b></b><span style=\"color: gray\">False</span>, </td><td><a href=\"https://en.wikipedia.org/wiki/Norma, Tennessee\">Norma, Tennessee</a>)</div>,&nbsp;<div style=\"flex: reflow\">(<b>True</b><span style=\"color: gray\"></span>, </td><td><a href=\"https://en.wikipedia.org/wiki/Mt. Olive, Oklahoma\">Mt. Olive, Oklahoma</a>)</div>,&nbsp;<div style=\"flex: reflow\">(<b></b><span style=\"color: gray\">False</span>, </td><td><a href=\"https://en.wikipedia.org/wiki/Central, Pennsylvania\">Central, Pennsylvania</a>)</div>,&nbsp;<div style=\"flex: reflow\">(<b></b><span style=\"color: gray\">False</span>, </td><td><a href=\"https://en.wikipedia.org/wiki/Frisco, Arizona\">Frisco, Arizona</a>)</div>,&nbsp;<div style=\"flex: reflow\">(<b></b><span style=\"color: gray\">False</span>, </td><td><a href=\"https://en.wikipedia.org/wiki/Patroon, Texas\">Patroon, Texas</a>)</div>,&nbsp;<div style=\"flex: reflow\">(<b></b><span style=\"color: gray\">False</span>, </td><td><a href=\"https://en.wikipedia.org/wiki/Union, Barbour County, West Virginia\">Union, Barbour County, West Virginia</a>)</div>,&nbsp;<div style=\"flex: reflow\">(<b></b><span style=\"color: gray\">False</span>, </td><td><a href=\"https://en.wikipedia.org/wiki/West Monroe Precinct, Hardin County, Illinois\">West Monroe Precinct, Hardin County, Illinois</a>)</div>,&nbsp;<div style=\"flex: reflow\">(<b></b><span style=\"color: gray\">False</span>, </td><td><a href=\"https://en.wikipedia.org/wiki/Tewaukon Township, Sargent County, North Dakota\">Tewaukon Township, Sargent County, North Dakota</a>)</div>,&nbsp;<div style=\"flex: reflow\">(<b></b><span style=\"color: gray\">False</span>, </td><td><a href=\"https://en.wikipedia.org/wiki/Horseshoe, Illinois\">Horseshoe, Illinois</a>)</div>,&nbsp;<div style=\"flex: reflow\">(<b></b><span style=\"color: gray\">False</span>, </td><td><a href=\"https://en.wikipedia.org/wiki/Weatherstone, Chester County, Pennsylvania\">Weatherstone, Chester County, Pennsylvania</a>)</div>,&nbsp;<div style=\"flex: reflow\">(<b></b><span style=\"color: gray\">False</span>, </td><td><a href=\"https://en.wikipedia.org/wiki/Statem Gap, Hamblen County, Tennessee\">Statem Gap, Hamblen County, Tennessee</a>)</div>,&nbsp;<div style=\"flex: reflow\">(<b></b><span style=\"color: gray\">False</span>, </td><td><a href=\"https://en.wikipedia.org/wiki/Bruner Township, Christian County, Missouri\">Bruner Township, Christian County, Missouri</a>)</div>,&nbsp;<div style=\"flex: reflow\">(<b></b><span style=\"color: gray\">False</span>, </td><td><a href=\"https://en.wikipedia.org/wiki/Rome Heights, Illinois\">Rome Heights, Illinois</a>)</div>,&nbsp;<div style=\"flex: reflow\">(<b></b><span style=\"color: gray\">False</span>, </td><td><a href=\"https://en.wikipedia.org/wiki/Verrett, Louisiana\">Verrett, Louisiana</a>)</div>,&nbsp;<div style=\"flex: reflow\">(<b></b><span style=\"color: gray\">False</span>, </td><td><a href=\"https://en.wikipedia.org/wiki/Raus, Tennessee\">Raus, Tennessee</a>)</div>,&nbsp;<div style=\"flex: reflow\">(<b></b><span style=\"color: gray\">False</span>, </td><td><a href=\"https://en.wikipedia.org/wiki/Pauline, Nebraska\">Pauline, Nebraska</a>)</div>,&nbsp;<div style=\"flex: reflow\">(<b></b><span style=\"color: gray\">False</span>, </td><td><a href=\"https://en.wikipedia.org/wiki/Vasco, Delta County, Texas\">Vasco, Delta County, Texas</a>)</div>,&nbsp;<div style=\"flex: reflow\">(<b></b><span style=\"color: gray\">False</span>, </td><td><a href=\"https://en.wikipedia.org/wiki/Meadowland Township, Lake of the Woods County, Minnesota\">Meadowland Township, Lake of the Woods County, Minnesota</a>)</div>,&nbsp;<div style=\"flex: reflow\">(<b></b><span style=\"color: gray\">False</span>, </td><td><a href=\"https://en.wikipedia.org/wiki/High Meadows, Illinois\">High Meadows, Illinois</a>)</div>,&nbsp;<div style=\"flex: reflow\">(<b></b><span style=\"color: gray\">False</span>, </td><td><a href=\"https://en.wikipedia.org/wiki/Spurr Township, Michigan#Communities\">Spurr Township, Michigan#Communities</a>)</div>,&nbsp;<div style=\"flex: reflow\">(<b></b><span style=\"color: gray\">False</span>, </td><td><a href=\"https://en.wikipedia.org/wiki/Leepertown Township, Bureau County, Illinois\">Leepertown Township, Bureau County, Illinois</a>)</div>,&nbsp;<div style=\"flex: reflow\">(<b></b><span style=\"color: gray\">False</span>, </td><td><a href=\"https://en.wikipedia.org/wiki/Madawaska, Maine\">Madawaska, Maine</a>)</div>,&nbsp;<div style=\"flex: reflow\">(<b></b><span style=\"color: gray\">False</span>, </td><td><a href=\"https://en.wikipedia.org/wiki/Dillerville, Pennsylvania\">Dillerville, Pennsylvania</a>)</div>,&nbsp;<div style=\"flex: reflow\">(<b></b><span style=\"color: gray\">False</span>, </td><td><a href=\"https://en.wikipedia.org/wiki/Emberton, Kentucky\">Emberton, Kentucky</a>)</div>,&nbsp;<div style=\"flex: reflow\">(<b></b><span style=\"color: gray\">False</span>, </td><td><a href=\"https://en.wikipedia.org/wiki/Sunfield Township, Michigan#Communities\">Sunfield Township, Michigan#Communities</a>)</div>,&nbsp;<div style=\"flex: reflow\">(<b></b><span style=\"color: gray\">False</span>, </td><td><a href=\"https://en.wikipedia.org/wiki/Seneca Township, Christian County, Missouri\">Seneca Township, Christian County, Missouri</a>)</div>,&nbsp;<div style=\"flex: reflow\">(<b></b><span style=\"color: gray\">False</span>, </td><td><a href=\"https://en.wikipedia.org/wiki/Lawton, Tennessee\">Lawton, Tennessee</a>)</div>,&nbsp;<div style=\"flex: reflow\">(<b></b><span style=\"color: gray\">False</span>, </td><td><a href=\"https://en.wikipedia.org/wiki/Noel Junction, Texas\">Noel Junction, Texas</a>)</div>,&nbsp;<div style=\"flex: reflow\">(<b></b><span style=\"color: gray\">False</span>, </td><td><a href=\"https://en.wikipedia.org/wiki/Leevan, Texas\">Leevan, Texas</a>)</div>,&nbsp;<div style=\"flex: reflow\">(<b></b><span style=\"color: gray\">False</span>, </td><td><a href=\"https://en.wikipedia.org/wiki/Bucklick, South Carolina\">Bucklick, South Carolina</a>)</div>,&nbsp;<div style=\"flex: reflow\">(<b></b><span style=\"color: gray\">False</span>, </td><td><a href=\"https://en.wikipedia.org/wiki/Neosho Falls, Kansas\">Neosho Falls, Kansas</a>)</div>,&nbsp;<div style=\"flex: reflow\">(<b></b><span style=\"color: gray\">False</span>, </td><td><a href=\"https://en.wikipedia.org/wiki/Rosie Township, Independence County, Arkansas\">Rosie Township, Independence County, Arkansas</a>)</div>,&nbsp;<div style=\"flex: reflow\">(<b></b><span style=\"color: gray\">False</span>, </td><td><a href=\"https://en.wikipedia.org/wiki/Causey, Kentucky\">Causey, Kentucky</a>)</div>,&nbsp;<div style=\"flex: reflow\">(<b></b><span style=\"color: gray\">False</span>, </td><td><a href=\"https://en.wikipedia.org/wiki/Villa Beach, Washington\">Villa Beach, Washington</a>)</div>,&nbsp;<div style=\"flex: reflow\">(<b></b><span style=\"color: gray\">False</span>, </td><td><a href=\"https://en.wikipedia.org/wiki/Kerkhoven, Minnesota\">Kerkhoven, Minnesota</a>)</div>,&nbsp;<div style=\"flex: reflow\">(<b></b><span style=\"color: gray\">False</span>, </td><td><a href=\"https://en.wikipedia.org/wiki/McClane City, Louisiana\">McClane City, Louisiana</a>)</div>,&nbsp;<div style=\"flex: reflow\">(<b></b><span style=\"color: gray\">False</span>, </td><td><a href=\"https://en.wikipedia.org/wiki/Belmont, Kansas\">Belmont, Kansas</a>)</div>,&nbsp;<div style=\"flex: reflow\">(<b></b><span style=\"color: gray\">False</span>, </td><td><a href=\"https://en.wikipedia.org/wiki/Karamin, Washington\">Karamin, Washington</a>)</div>,&nbsp;<div style=\"flex: reflow\">(<b></b><span style=\"color: gray\">False</span>, </td><td><a href=\"https://en.wikipedia.org/wiki/Austin, Washington\">Austin, Washington</a>)</div>,&nbsp;<div style=\"flex: reflow\">(<b></b><span style=\"color: gray\">False</span>, </td><td><a href=\"https://en.wikipedia.org/wiki/Strawberry Township, Izard County, Arkansas\">Strawberry Township, Izard County, Arkansas</a>)</div>,&nbsp;<div style=\"flex: reflow\">(<b></b><span style=\"color: gray\">False</span>, </td><td><a href=\"https://en.wikipedia.org/wiki/Plankinton Township, Aurora County, South Dakota\">Plankinton Township, Aurora County, South Dakota</a>)</div>,&nbsp;<div style=\"flex: reflow\">(<b></b><span style=\"color: gray\">False</span>, </td><td><a href=\"https://en.wikipedia.org/wiki/Hurley, Iowa\">Hurley, Iowa</a>)</div>,&nbsp;<div style=\"flex: reflow\">(<b></b><span style=\"color: gray\">False</span>, </td><td><a href=\"https://en.wikipedia.org/wiki/Bredinsburg, Pennsylvania\">Bredinsburg, Pennsylvania</a>)</div>,&nbsp;<div style=\"flex: reflow\">(<b></b><span style=\"color: gray\">False</span>, </td><td><a href=\"https://en.wikipedia.org/wiki/Varnville, South Carolina\">Varnville, South Carolina</a>)</div>,&nbsp;<div style=\"flex: reflow\">(<b></b><span style=\"color: gray\">False</span>, </td><td><a href=\"https://en.wikipedia.org/wiki/Glacier Township, Stutsman County, North Dakota\">Glacier Township, Stutsman County, North Dakota</a>)</div>,&nbsp;<div style=\"flex: reflow\">(<b></b><span style=\"color: gray\">False</span>, </td><td><a href=\"https://en.wikipedia.org/wiki/Harris Township, Michigan#Communities\">Harris Township, Michigan#Communities</a>)</div>,&nbsp;<div style=\"flex: reflow\">(<b></b><span style=\"color: gray\">False</span>, </td><td><a href=\"https://en.wikipedia.org/wiki/Rock, Ohio\">Rock, Ohio</a>)</div>,&nbsp;<div style=\"flex: reflow\">(<b></b><span style=\"color: gray\">False</span>, </td><td><a href=\"https://en.wikipedia.org/wiki/Mossy Grove, Tennessee\">Mossy Grove, Tennessee</a>)</div>,&nbsp;<div style=\"flex: reflow\">(<b></b><span style=\"color: gray\">False</span>, </td><td><a href=\"https://en.wikipedia.org/wiki/Harrisons Mill, Georgia\">Harrisons Mill, Georgia</a>)</div>,&nbsp;<div style=\"flex: reflow\">(<b></b><span style=\"color: gray\">False</span>, </td><td><a href=\"https://en.wikipedia.org/wiki/Perry, Michigan\">Perry, Michigan</a>)</div>,&nbsp;<div style=\"flex: reflow\">(<b></b><span style=\"color: gray\">False</span>, </td><td><a href=\"https://en.wikipedia.org/wiki/Demopolis, Alabama\">Demopolis, Alabama</a>)</div>,&nbsp;<div style=\"flex: reflow\">(<b></b><span style=\"color: gray\">False</span>, </td><td><a href=\"https://en.wikipedia.org/wiki/Sand Bed, Georgia\">Sand Bed, Georgia</a>)</div>,&nbsp;<div style=\"flex: reflow\">(<b></b><span style=\"color: gray\">False</span>, </td><td><a href=\"https://en.wikipedia.org/wiki/Morrison, Louisiana\">Morrison, Louisiana</a>)</div>,&nbsp;<div style=\"flex: reflow\">(<b></b><span style=\"color: gray\">False</span>, </td><td><a href=\"https://en.wikipedia.org/wiki/Orangeville, Utah\">Orangeville, Utah</a>)</div>,&nbsp;<div style=\"flex: reflow\">(<b></b><span style=\"color: gray\">False</span>, </td><td><a href=\"https://en.wikipedia.org/wiki/Otto, Wyoming\">Otto, Wyoming</a>)</div>,&nbsp;<div style=\"flex: reflow\">(<b></b><span style=\"color: gray\">False</span>, </td><td><a href=\"https://en.wikipedia.org/wiki/Mayview, Arkansas\">Mayview, Arkansas</a>)</div>,&nbsp;<div style=\"flex: reflow\">(<b></b><span style=\"color: gray\">False</span>, </td><td><a href=\"https://en.wikipedia.org/wiki/Adrian Charter Township, Michigan#Communities\">Adrian Charter Township, Michigan#Communities</a>)</div>,&nbsp;<div style=\"flex: reflow\">(<b></b><span style=\"color: gray\">False</span>, </td><td><a href=\"https://en.wikipedia.org/wiki/South Green Township, Polk County, Missouri\">South Green Township, Polk County, Missouri</a>)</div>,&nbsp;<div style=\"flex: reflow\">(<b></b><span style=\"color: gray\">False</span>, </td><td><a href=\"https://en.wikipedia.org/wiki/Tunnel Hill, Kentucky\">Tunnel Hill, Kentucky</a>)</div>,&nbsp;<div style=\"flex: reflow\">(<b>True</b><span style=\"color: gray\"></span>, </td><td><a href=\"https://en.wikipedia.org/wiki/Sherman City, Michigan\">Sherman City, Michigan</a>)</div>,&nbsp;<div style=\"flex: reflow\">(<b></b><span style=\"color: gray\">False</span>, </td><td><a href=\"https://en.wikipedia.org/wiki/Passer, Pennsylvania\">Passer, Pennsylvania</a>)</div>,&nbsp;<div style=\"flex: reflow\">(<b></b><span style=\"color: gray\">False</span>, </td><td><a href=\"https://en.wikipedia.org/wiki/North Raynham, Massachusetts\">North Raynham, Massachusetts</a>)</div>,&nbsp;<div style=\"flex: reflow\">(<b></b><span style=\"color: gray\">False</span>, </td><td><a href=\"https://en.wikipedia.org/wiki/Claymour, Kentucky\">Claymour, Kentucky</a>)</div>,&nbsp;<div style=\"flex: reflow\">(<b></b><span style=\"color: gray\">False</span>, </td><td><a href=\"https://en.wikipedia.org/wiki/Eastman Township, Foster County, North Dakota\">Eastman Township, Foster County, North Dakota</a>)</div>,&nbsp;<div style=\"flex: reflow\">(<b></b><span style=\"color: gray\">False</span>, </td><td><a href=\"https://en.wikipedia.org/wiki/Gun Powder Gap, Kentucky\">Gun Powder Gap, Kentucky</a>)</div>,&nbsp;<div style=\"flex: reflow\">(<b></b><span style=\"color: gray\">False</span>, </td><td><a href=\"https://en.wikipedia.org/wiki/Marion Township, Drew County, Arkansas\">Marion Township, Drew County, Arkansas</a>)</div>,&nbsp;<div style=\"flex: reflow\">(<b></b><span style=\"color: gray\">False</span>, </td><td><a href=\"https://en.wikipedia.org/wiki/Patton, Oregon\">Patton, Oregon</a>)</div>,&nbsp;<div style=\"flex: reflow\">(<b></b><span style=\"color: gray\">False</span>, </td><td><a href=\"https://en.wikipedia.org/wiki/Sailors Rest, Tennessee\">Sailors Rest, Tennessee</a>)</div>,&nbsp;<div style=\"flex: reflow\">(<b></b><span style=\"color: gray\">False</span>, </td><td><a href=\"https://en.wikipedia.org/wiki/Shannon, Arkansas\">Shannon, Arkansas</a>)</div>,&nbsp;<div style=\"flex: reflow\">(<b></b><span style=\"color: gray\">False</span>, </td><td><a href=\"https://en.wikipedia.org/wiki/Hadley Township, Lafayette County, Arkansas\">Hadley Township, Lafayette County, Arkansas</a>)</div>,&nbsp;<div style=\"flex: reflow\">(<b></b><span style=\"color: gray\">False</span>, </td><td><a href=\"https://en.wikipedia.org/wiki/Lake Centralia, Illinois\">Lake Centralia, Illinois</a>)</div>,&nbsp;<div style=\"flex: reflow\">(<b></b><span style=\"color: gray\">False</span>, </td><td><a href=\"https://en.wikipedia.org/wiki/Newark Township, Kearney County, Nebraska\">Newark Township, Kearney County, Nebraska</a>)</div>,&nbsp;<div style=\"flex: reflow\">(<b></b><span style=\"color: gray\">False</span>, </td><td><a href=\"https://en.wikipedia.org/wiki/Moccasin, Tennessee\">Moccasin, Tennessee</a>)</div>,&nbsp;<div style=\"flex: reflow\">(<b></b><span style=\"color: gray\">False</span>, </td><td><a href=\"https://en.wikipedia.org/wiki/Cottage Hill, Kansas\">Cottage Hill, Kansas</a>)</div>,&nbsp;<div style=\"flex: reflow\">(<b></b><span style=\"color: gray\">False</span>, </td><td><a href=\"https://en.wikipedia.org/wiki/Voganville, Pennsylvania\">Voganville, Pennsylvania</a>)</div>,&nbsp;<div style=\"flex: reflow\">(<b></b><span style=\"color: gray\">False</span>, </td><td><a href=\"https://en.wikipedia.org/wiki/Rome Township, Davison County, South Dakota\">Rome Township, Davison County, South Dakota</a>)</div>,&nbsp;<div style=\"flex: reflow\">(<b></b><span style=\"color: gray\">False</span>, </td><td><a href=\"https://en.wikipedia.org/wiki/Galena, Colorado\">Galena, Colorado</a>)</div>,&nbsp;<div style=\"flex: reflow\">(<b></b><span style=\"color: gray\">False</span>, </td><td><a href=\"https://en.wikipedia.org/wiki/Seminole Park, Florida\">Seminole Park, Florida</a>)</div>,&nbsp;<div style=\"flex: reflow\">(<b></b><span style=\"color: gray\">False</span>, </td><td><a href=\"https://en.wikipedia.org/wiki/Kellogg, Illinois\">Kellogg, Illinois</a>)</div>,&nbsp;<div style=\"flex: reflow\">(<b></b><span style=\"color: gray\">False</span>, </td><td><a href=\"https://en.wikipedia.org/wiki/Colona Township, Henry County, Illinois#Unincorporated towns\">Colona Township, Henry County, Illinois#Unincorporated towns</a>)</div>,&nbsp;<div style=\"flex: reflow\">(<b></b><span style=\"color: gray\">False</span>, </td><td><a href=\"https://en.wikipedia.org/wiki/Hessdale, Pennsylvania\">Hessdale, Pennsylvania</a>)</div>,&nbsp;<div style=\"flex: reflow\">(<b></b><span style=\"color: gray\">False</span>, </td><td><a href=\"https://en.wikipedia.org/wiki/Elivon, Kansas\">Elivon, Kansas</a>)</div>,&nbsp;<div style=\"flex: reflow\">(<b></b><span style=\"color: gray\">False</span>, </td><td><a href=\"https://en.wikipedia.org/wiki/Victor, Washington\">Victor, Washington</a>)</div>,&nbsp;<div style=\"flex: reflow\">(<b></b><span style=\"color: gray\">False</span>, </td><td><a href=\"https://en.wikipedia.org/wiki/Hardin Valley, Tennessee\">Hardin Valley, Tennessee</a>)</div>,&nbsp;<div style=\"flex: reflow\">(<b></b><span style=\"color: gray\">False</span>, </td><td><a href=\"https://en.wikipedia.org/wiki/Comer, Illinois\">Comer, Illinois</a>)</div>,&nbsp;<div style=\"flex: reflow\">(<b></b><span style=\"color: gray\">False</span>, </td><td><a href=\"https://en.wikipedia.org/wiki/Halltown, Tennessee\">Halltown, Tennessee</a>)</div>,&nbsp;<div style=\"flex: reflow\">(<b></b><span style=\"color: gray\">False</span>, </td><td><a href=\"https://en.wikipedia.org/wiki/Irma, Louisiana\">Irma, Louisiana</a>)</div>,&nbsp;<div style=\"flex: reflow\">(<b></b><span style=\"color: gray\">False</span>, </td><td><a href=\"https://en.wikipedia.org/wiki/Enterprise, Oregon\">Enterprise, Oregon</a>)</div>,&nbsp;<div style=\"flex: reflow\">(<b></b><span style=\"color: gray\">False</span>, </td><td><a href=\"https://en.wikipedia.org/wiki/Brushtown, Adams County, Pennsylvania\">Brushtown, Adams County, Pennsylvania</a>)</div>,&nbsp;<div style=\"flex: reflow\">(<b></b><span style=\"color: gray\">False</span>, </td><td><a href=\"https://en.wikipedia.org/wiki/Dimple, Texas\">Dimple, Texas</a>)</div>,&nbsp;<div style=\"flex: reflow\">(<b></b><span style=\"color: gray\">False</span>, </td><td><a href=\"https://en.wikipedia.org/wiki/Greble, Pennsylvania\">Greble, Pennsylvania</a>)</div>]</div>"
      ],
      "text/plain": [
       "<IPython.core.display.HTML object>"
      ]
     },
     "execution_count": 9,
     "metadata": {},
     "output_type": "execute_result"
    }
   ],
   "source": [
    "inner = []\n",
    "for title in missing[:100]:\n",
    "    is_redirect = b'<redirect title' in http_get(\"https://en.wikipedia.org/wiki/Special:Export/\" + title)\n",
    "    inner.append(f'<div style=\"flex: reflow\">(<b>{is_redirect if is_redirect else \"\"}</b><span style=\"color: gray\">{is_redirect if not is_redirect else \"\"}</span>, </td><td><a href=\"{wikipedia_standard_url(title)}\">{title}</a>)</div>')\n",
    "    \n",
    "HTML('<div style=\"display: flex; width: 100%; flex-flow: wrap\">[' + ',&nbsp;'.join(inner) + ']</div>')"
   ]
  },
  {
   "cell_type": "markdown",
   "metadata": {},
   "source": [
    "##### Patch Redirects"
   ]
  },
  {
   "cell_type": "code",
   "execution_count": null,
   "metadata": {},
   "outputs": [],
   "source": [
    "redirects = []\n",
    "\n",
    "print(\"total\", len(missing), \"\\n----\")\n",
    "for index, title in enumerate(missing):\n",
    "    is_redirect = b'<redirect title' in http_get(\"https://en.wikipedia.org/wiki/Special:Export/\" + title)\n",
    "    \n",
    "    if is_redirect:\n",
    "        redirects.append(title)\n",
    "        print(index, title)"
   ]
  },
  {
   "cell_type": "code",
   "execution_count": 10,
   "metadata": {},
   "outputs": [],
   "source": [
    "redirects = [\n",
    "    'Prattsburgh (CDP), New York',\n",
    "    'Jacobs, Ashland County, Wisconsin',\n",
    "    'Gilmanton, Buffalo County, Wisconsin',\n",
    "    'East Highland, Michigan',\n",
    "    'Snyderville, Michigan',\n",
    "    'Jones, Michigan',\n",
    "    'Williamsburg, Tennessee',\n",
    "    'Le Roy, Michigan',\n",
    "    'Mount Helix, California',\n",
    "    \"Brown's Store, Ohio\",\n",
    "    'Loch Lomond, Florida',\n",
    "    'Flom Township, Minnesota',\n",
    "    'Mears, Michigan',\n",
    "    'Bluff, UT',\n",
    "    'Elyton, Alabama',\n",
    "    'Mt. Olive, Oklahoma',\n",
    "    'Shelby, Macomb County, Michigan',\n",
    "    'Old Iron Town, Utah',\n",
    "    'Hawks, Michigan',\n",
    "    'Waimanalo, Hawaii',\n",
    "    'Sherman City, Michigan',\n",
    "    'Gros Cap, Michigan',\n",
    "    'Fillmore, Michigan',\n",
    "    'Canton (town), New York',\n",
    "    'Manset, Maine',\n",
    "    'Franklin, Venango County, Pennsylvania',\n",
    "    'White River, Ashland County, Wisconsin',\n",
    "    'Burr Oak Township, St. Joseph County, Michigan',\n",
    "    'McVille, Armstrong County, Pennsylvania',\n",
    "    'Cambridge (town), Vermont',\n",
    "    'Orogrande, Idaho']"
   ]
  },
  {
   "cell_type": "code",
   "execution_count": 11,
   "metadata": {},
   "outputs": [],
   "source": [
    "redirects_parsed = [BeautifulSoup(wikipedia_export_get(title)).select('page')[0] for title in redirects]\n",
    "pages_parsed += redirects_parsed"
   ]
  },
  {
   "cell_type": "markdown",
   "metadata": {},
   "source": [
    "##### Schema"
   ]
  },
  {
   "cell_type": "code",
   "execution_count": 24,
   "metadata": {},
   "outputs": [
    {
     "data": {
      "text/html": [
       "<div>\n",
       "<style scoped>\n",
       "    .dataframe tbody tr th:only-of-type {\n",
       "        vertical-align: middle;\n",
       "    }\n",
       "\n",
       "    .dataframe tbody tr th {\n",
       "        vertical-align: top;\n",
       "    }\n",
       "\n",
       "    .dataframe thead th {\n",
       "        text-align: right;\n",
       "    }\n",
       "</style>\n",
       "<table border=\"1\" class=\"dataframe\">\n",
       "  <thead>\n",
       "    <tr style=\"text-align: right;\">\n",
       "      <th></th>\n",
       "      <th>id</th>\n",
       "      <th>Name</th>\n",
       "      <th>XML</th>\n",
       "    </tr>\n",
       "  </thead>\n",
       "  <tbody>\n",
       "    <tr>\n",
       "      <th>0</th>\n",
       "      <td>8052092202930700184</td>\n",
       "      <td>1😱2</td>\n",
       "      <td>c</td>\n",
       "    </tr>\n",
       "  </tbody>\n",
       "</table>\n",
       "</div>"
      ],
      "text/plain": [
       "                    id Name XML\n",
       "0  8052092202930700184  1😱2   c"
      ]
     },
     "execution_count": 24,
     "metadata": {},
     "output_type": "execute_result"
    }
   ],
   "source": [
    "import pyspark.sql.types as types\n",
    "\n",
    "schema = types.StructType([\n",
    "    types.StructField(name='id', dataType=types.LongType(), nullable=False),\n",
    "    types.StructField(name='Name', dataType=types.StringType(), nullable=False),\n",
    "    types.StructField(name='XML', dataType=types.StringType(), nullable=False) \n",
    "])\n",
    "\n",
    "data_frame = spark.createDataFrame([(hash(\"a\"), \"1😱2\", b\"c\".decode())], schema=schema)\n",
    "data_frame.toPandas()"
   ]
  },
  {
   "cell_type": "markdown",
   "metadata": {},
   "source": [
    "##### DataFrame"
   ]
  },
  {
   "cell_type": "code",
   "execution_count": 451,
   "metadata": {},
   "outputs": [],
   "source": [
    "titles_all = [page.select('title')[0].getText().strip() for page in pages_parsed]\n",
    "triples = zip(map(hash, titles_all), titles_all, map(str, pages_parsed))\n",
    "\n",
    "data_frame = spark.createDataFrame(triples)"
   ]
  },
  {
   "cell_type": "code",
   "execution_count": 453,
   "metadata": {},
   "outputs": [],
   "source": [
    "triples = zip(map(hash, titles_all), titles_all, map(str, pages_parsed))\n",
    "data_frame = spark.createDataFrame(triples)"
   ]
  },
  {
   "cell_type": "code",
   "execution_count": null,
   "metadata": {},
   "outputs": [],
   "source": [
    "data_frame.take(1)"
   ]
  },
  {
   "cell_type": "code",
   "execution_count": null,
   "metadata": {},
   "outputs": [],
   "source": [
    "data_frame.count(), data_frame.distinct().cache().count()"
   ]
  },
  {
   "cell_type": "code",
   "execution_count": null,
   "metadata": {},
   "outputs": [],
   "source": [
    "data_frame.distinct().write.save(path=\"data/communities_all_70k\")"
   ]
  },
  {
   "cell_type": "markdown",
   "metadata": {},
   "source": [
    "---"
   ]
  },
  {
   "cell_type": "markdown",
   "metadata": {},
   "source": [
    "#### Key Frequencies"
   ]
  },
  {
   "cell_type": "code",
   "execution_count": 12,
   "metadata": {},
   "outputs": [],
   "source": [
    "texts_all = [page.select('text')[0].getText() for page in pages_parsed]"
   ]
  },
  {
   "cell_type": "code",
   "execution_count": 13,
   "metadata": {},
   "outputs": [
    {
     "data": {
      "text/plain": [
       "(65033, 64709)"
      ]
     },
     "execution_count": 13,
     "metadata": {},
     "output_type": "execute_result"
    }
   ],
   "source": [
    "len(texts_all), len(set(texts_all))"
   ]
  },
  {
   "cell_type": "code",
   "execution_count": 20,
   "metadata": {},
   "outputs": [
    {
     "data": {
      "text/plain": [
       "('#REDIRECT [[Austin Township, Sanilac County, Michigan]]\\n{{R with possibilities}}\\n[[Category:Unincorporated communities in Sanilac County, Michigan]]',\n",
       " 3)"
      ]
     },
     "execution_count": 20,
     "metadata": {},
     "output_type": "execute_result"
    }
   ],
   "source": [
    "counting_dict_ = {}\n",
    "for text in texts_all:\n",
    "    counting_dict_[text] = counting_dict_.get(text, 0) + 1\n",
    "    \n",
    "[tc for tc in counting_dict_.items() if tc[1] > 1][0]"
   ]
  },
  {
   "cell_type": "code",
   "execution_count": 21,
   "metadata": {},
   "outputs": [],
   "source": [
    "texts_all = list(set(texts_all))"
   ]
  },
  {
   "cell_type": "code",
   "execution_count": 22,
   "metadata": {},
   "outputs": [],
   "source": [
    "infoboxes_all = [wikipedia_infobox_key_values_non_empty(text) for text in texts_all]        "
   ]
  },
  {
   "cell_type": "code",
   "execution_count": 23,
   "metadata": {},
   "outputs": [],
   "source": [
    "info_keys_all = (sc.parallelize(infoboxes_all)\n",
    "                   .flatMap(lambda keyvalues: [key for key, value in keyvalues]))"
   ]
  },
  {
   "cell_type": "code",
   "execution_count": 25,
   "metadata": {},
   "outputs": [
    {
     "data": {
      "text/plain": [
       "[('subdivision_type1', 54424),\n",
       " ('subdivision_name1', 54421),\n",
       " ('subdivision_name', 54416),\n",
       " ('subdivision_name2', 54322),\n",
       " ('subdivision_type2', 54286),\n",
       " ('subdivision_type', 54186),\n",
       " ('settlement_type', 54079),\n",
       " ('coordinates', 52632),\n",
       " ('blank_name', 50808),\n",
       " ('utc_offset', 47979),\n",
       " ('timezone', 47600),\n",
       " ('timezone_DST', 47580),\n",
       " ('utc_offset_DST', 47416),\n",
       " ('elevation_ft', 46742),\n",
       " ('blank_info', 45841),\n",
       " ('population_as_of', 42723),\n",
       " ('official_name', 40616),\n",
       " ('unit_pref', 39687),\n",
       " ('area_code', 38075),\n",
       " ('population_density_km2', 37940),\n",
       " ('population_total', 37658),\n",
       " ('postal_code_type', 36898),\n",
       " ('map_caption', 35148),\n",
       " ('blank1_name', 34181),\n",
       " ('area_total_km2', 33692),\n",
       " ('area_land_km2', 33592),\n",
       " ('area_water_km2', 33298),\n",
       " ('image_map', 32747),\n",
       " ('postal_code', 32112),\n",
       " ('blank1_info', 31836),\n",
       " ('area_total_sq_mi', 31502),\n",
       " ('area_water_sq_mi', 31451),\n",
       " ('area_land_sq_mi', 31360),\n",
       " ('population_density_sq_mi', 30179),\n",
       " ('pushpin_map', 28754),\n",
       " ('elevation_m', 28448),\n",
       " ('footnote', 25091),\n",
       " ('mapsize', 23699),\n",
       " ('estyear', 21837),\n",
       " ('estimate', 21825),\n",
       " ('estref', 21672),\n",
       " ('2010', 21583),\n",
       " ('pop_est_as_of', 21198),\n",
       " ('population_est', 21152),\n",
       " ('2000', 20915),\n",
       " ('image_skyline', 20439),\n",
       " ('area_footnotes', 20099),\n",
       " ('1990', 19943),\n",
       " ('pop_est_footnotes', 19679),\n",
       " ('1980', 19350),\n",
       " ('image_caption', 18712),\n",
       " ('1970', 18607),\n",
       " ('1960', 17678),\n",
       " ('1950', 16767),\n",
       " ('pushpin_map_caption', 16718),\n",
       " ('pushpin_label_position', 16634),\n",
       " ('1940', 16170),\n",
       " ('name', 15971),\n",
       " ('1930', 15820),\n",
       " ('leader_title', 15411),\n",
       " ('1920', 14659),\n",
       " ('website', 14361),\n",
       " ('established_title', 14281),\n",
       " ('align', 13832),\n",
       " ('1910', 13271),\n",
       " ('title', 12530),\n",
       " ('pushpin_label', 12014),\n",
       " ('elevation_footnotes', 11310),\n",
       " ('population_footnotes', 11077),\n",
       " ('url', 10610),\n",
       " ('1900', 10558),\n",
       " ('established_date', 10543),\n",
       " ('1890', 8971),\n",
       " ('publisher', 8926),\n",
       " ('leader_name', 8758),\n",
       " ('1880', 8626),\n",
       " ('accessdate', 8232),\n",
       " ('style', 8214),\n",
       " ('imagesize', 7953),\n",
       " ('subdivision_type3', 7603),\n",
       " ('leader_title1', 7282),\n",
       " ('image_map1', 6725),\n",
       " ('map_caption1', 6490),\n",
       " ('subdivision_name3', 6268),\n",
       " ('government_type', 5205),\n",
       " ('1870', 4884),\n",
       " ('motto', 4630),\n",
       " ('established_title2', 4598),\n",
       " ('url-status', 4488),\n",
       " ('area_water_percent', 4195),\n",
       " ('leader_name1', 3794),\n",
       " ('location', 3749),\n",
       " ('archive-url', 3636),\n",
       " ('align-fn', 3635),\n",
       " ('archive-date', 3629),\n",
       " ('mapsize1', 3615),\n",
       " ('date', 3574),\n",
       " ('timezone1', 3571),\n",
       " ('utc_offset1', 3517),\n",
       " ('timezone1_DST', 3459),\n",
       " ('utc_offset1_DST', 3445),\n",
       " ('1860', 3432),\n",
       " ('native_name', 3020),\n",
       " ('established_title1', 2917),\n",
       " ('Jan high F', 2886),\n",
       " ('single line', 2884),\n",
       " ('May high F', 2880),\n",
       " ('Sep high F', 2880),\n",
       " ('Mar high F', 2879),\n",
       " ('Jul high F', 2879),\n",
       " ('Nov high F', 2879),\n",
       " ('Apr high F', 2877),\n",
       " ('Feb high F', 2876),\n",
       " ('Jun high F', 2876),\n",
       " ('Aug high F', 2876),\n",
       " ('Oct high F', 2876),\n",
       " ('Dec high F', 2876),\n",
       " ('Jan low F', 2875),\n",
       " ('May low F', 2868),\n",
       " ('Sep low F', 2868),\n",
       " ('Mar low F', 2867),\n",
       " ('Jul low F', 2867),\n",
       " ('Nov low F', 2866),\n",
       " ('Feb low F', 2864),\n",
       " ('Apr low F', 2864),\n",
       " ('Jun low F', 2864),\n",
       " ('Aug low F', 2864),\n",
       " ('Oct low F', 2864),\n",
       " ('Dec low F', 2864),\n",
       " ('Jan precipitation inch', 2725),\n",
       " ('May precipitation inch', 2717),\n",
       " ('Sep precipitation inch', 2717),\n",
       " ('Nov precipitation inch', 2717),\n",
       " ('Mar precipitation inch', 2716),\n",
       " ('Jul precipitation inch', 2716),\n",
       " ('Oct precipitation inch', 2716),\n",
       " ('Dec precipitation inch', 2716),\n",
       " ('Feb precipitation inch', 2715),\n",
       " ('Apr precipitation inch', 2715),\n",
       " ('Jun precipitation inch', 2715),\n",
       " ('Aug precipitation inch', 2715),\n",
       " ('image_seal', 2715),\n",
       " ('1850', 2657),\n",
       " ('established_title3', 2644),\n",
       " ('source 1', 2641),\n",
       " ('area_code_type', 2431),\n",
       " ('established_date2', 2417),\n",
       " ('East', 2291),\n",
       " ('West', 2274),\n",
       " ('North', 2240),\n",
       " ('South', 2217),\n",
       " ('blank2_name_sec2', 2097),\n",
       " ('established_date1', 2071),\n",
       " ('Southwest', 1981),\n",
       " ('Northeast', 1979),\n",
       " ('Centre', 1976),\n",
       " ('}', 1973),\n",
       " ('|pushpin_map', 1953),\n",
       " ('Northwest', 1948),\n",
       " ('Jan record high F', 1920),\n",
       " ('May record high F', 1916),\n",
       " ('Mar record high F', 1915),\n",
       " ('Sep record high F', 1915),\n",
       " ('Jul record high F', 1914),\n",
       " ('Nov record high F', 1914),\n",
       " ('Feb record high F', 1913),\n",
       " ('Jan record low F', 1913),\n",
       " ('Apr record high F', 1912),\n",
       " ('Jun record high F', 1911),\n",
       " ('Aug record high F', 1911),\n",
       " ('Oct record high F', 1911),\n",
       " ('Dec record high F', 1911),\n",
       " ('Southeast', 1908),\n",
       " ('May record low F', 1906),\n",
       " ('Jul record low F', 1905),\n",
       " ('Sep record low F', 1905),\n",
       " ('Feb record low F', 1903),\n",
       " ('Mar record low F', 1903),\n",
       " ('Nov record low F', 1903),\n",
       " ('Apr record low F', 1902),\n",
       " ('Jun record low F', 1902),\n",
       " ('Aug record low F', 1902),\n",
       " ('Oct record low F', 1901),\n",
       " ('Dec record low F', 1897),\n",
       " ('1840', 1885),\n",
       " ('nickname', 1852),\n",
       " ('year high F', 1817),\n",
       " ('year low F', 1807),\n",
       " ('year precipitation inch', 1761),\n",
       " ('1830', 1652),\n",
       " ('named_for', 1629),\n",
       " ('year', 1601),\n",
       " ('precipitation colour', 1582),\n",
       " ('pushpin_mapsize', 1562),\n",
       " ('last', 1513),\n",
       " ('established_date3', 1484),\n",
       " ('leader_title2', 1407),\n",
       " ('footnotes', 1395),\n",
       " ('first', 1387),\n",
       " ('1820', 1386),\n",
       " ('leader_name2', 1380),\n",
       " ('Jan snow inch', 1353),\n",
       " ('Apr snow inch', 1346),\n",
       " ('Feb snow inch', 1345),\n",
       " ('Mar snow inch', 1345),\n",
       " ('year record high F', 1343),\n",
       " ('May snow inch', 1343),\n",
       " ('Dec snow inch', 1341),\n",
       " ('Jun snow inch', 1340),\n",
       " ('Nov snow inch', 1340),\n",
       " ('Jul snow inch', 1339),\n",
       " ('Aug snow inch', 1339),\n",
       " ('Sep snow inch', 1338),\n",
       " ('Oct snow inch', 1338),\n",
       " ('year record low F', 1335),\n",
       " ('source', 1296)]"
      ]
     },
     "execution_count": 25,
     "metadata": {},
     "output_type": "execute_result"
    }
   ],
   "source": [
    "key_frequencies = sorted(info_keys_all.countByValue().items(), key=lambda key_count: -key_count[1])\n",
    "percent = len(texts_all) * 0.01\n",
    "[kf for kf in key_frequencies if kf[1] > 2*percent]"
   ]
  },
  {
   "cell_type": "code",
   "execution_count": 28,
   "metadata": {},
   "outputs": [
    {
     "data": {
      "text/plain": [
       "[('established_date', 10543),\n",
       " ('accessdate', 8232),\n",
       " ('archive-date', 3629),\n",
       " ('date', 3574),\n",
       " ('established_date2', 2417),\n",
       " ('established_date1', 2071),\n",
       " ('established_date3', 1484),\n",
       " ('archivedate', 906)]"
      ]
     },
     "execution_count": 28,
     "metadata": {},
     "output_type": "execute_result"
    }
   ],
   "source": [
    "[(key, frequency) for key, frequency in key_frequencies if 'dat' in key and frequency > 1*percent]"
   ]
  },
  {
   "cell_type": "markdown",
   "metadata": {},
   "source": [
    "---\n",
    "#### Search Terms (Misc)"
   ]
  },
  {
   "cell_type": "code",
   "execution_count": 60,
   "metadata": {},
   "outputs": [],
   "source": [
    "titles_all = [page.select('title')[0].getText().strip() for page in pages_parsed]"
   ]
  },
  {
   "cell_type": "code",
   "execution_count": 61,
   "metadata": {
    "collapsed": true,
    "jupyter": {
     "outputs_hidden": true
    }
   },
   "outputs": [
    {
     "data": {
      "text/plain": [
       "('Gilbert, Louisiana',\n",
       " '{{Infobox settlement\\n| name = Gilbert, Louisiana\\n| official_name = Village of Gilbert\\n| native_name = \\n| native_name_lang = \\n| other_name = \\n| settlement_type = Village\\n| image_skyline = Gilbert, LA, City Hall IMG_0321.JPG\\n| imagesize = 250px\\n| image_alt = \\n| image_caption = Gilbert City Hall and Police Department\\n| image_flag = \\n| image_seal = \\n| etymology = \\n| nickname = \\n| motto = \\n| anthem = \\n| image_map = File:Franklin Parish Louisiana Incorporated and Unincorporated areas Gilbert Highlighted.svg\\n| mapsize = 260px\\n| map_alt = \\n| map_caption = Location of Gilbert in Franklin Parish, Louisiana.\\n| image_map1 = Louisiana in United States (US48).svg\\n| mapsize1 = \\n| map_alt1 = \\n| map_caption1 = Location of Louisiana in the United States\\n| pushpin_map = \\n| pushpin_label_position = \\n| pushpin_label = \\n| pushpin_map_alt = \\n| pushpin_mapsize = \\n| pushpin_relief = \\n| pushpin_map_caption = \\n| coordinates = {{coord|32|02|59|N|91|39|36|W|display=inline,title}}\\n| coor_pinpoint = \\n| coordinates_footnotes = \\n| grid_name = \\n| grid_position = \\n| subdivision_type = Country\\n| subdivision_name = United States\\n| subdivision_type1 = State\\n| subdivision_name1 = Louisiana\\n| subdivision_type2 = Parish\\n| subdivision_name2 = [[Franklin Parish, Louisiana|Franklin]]\\n| subdivision_type3 = \\n| subdivision_name3 = \\n| subdivision_type4 = \\n| subdivision_name4 = \\n| established_title = Founded\\n| established_date = \\n| established_title1 = \\n| established_date1 = \\n| established_title2 = \\n| established_date2 = \\n| established_title3 = \\n| established_date3 = \\n| established_title4 = \\n| established_date4 = \\n| established_title5 = \\n| established_date5 = \\n| established_title6 = \\n| established_date6 = \\n| established_title7 = \\n| established_date7 = \\n| extinct_title = \\n| extinct_date = \\n| founder = \\n| named_for = \\n| seat_type = \\n| seat = \\n| seat1_type = \\n| seat1 = \\n| government_footnotes = \\n| government_type = \\n| governing_body = \\n| leader_party = \\n| leader_title = Mayor\\n| leader_name = \\n| leader_title1 = \\n| leader_name1 = \\n| total_type = \\n| unit_pref = Imperial\\n| area_footnotes = <ref name=\"CenPopGazetteer2016\">{{cite web|title=2016 U.S. Gazetteer Files|url=https://www2.census.gov/geo/docs/maps-data/data/gazetteer/2016_Gazetteer/2016_gaz_place_22.txt|publisher=United States Census Bureau|accessdate=Jul 2, 2017}}</ref>\\n| area_total_km2 = 2.76\\n| area_total_sq_mi = 1.07\\n| area_land_km2 = 2.72\\n| area_land_sq_mi = 1.05\\n| area_water_km2 = 0.04\\n| area_water_sq_mi = 0.02\\n| area_water_percent = \\n| area_metro_footnotes = \\n| area_metro_km2 = \\n| area_metro_sq_mi = \\n| area_rank = \\n| elevation_footnotes = \\n| elevation_m = \\n| elevation_ft = 75\\n| elevation_point = \\n| elevation_max_footnotes = \\n| elevation_max_m = \\n| elevation_max_ft = \\n| elevation_max_point = \\n| elevation_max_rank = \\n| elevation_min_footnotes = \\n| elevation_min_m = \\n| elevation_min_ft = \\n| elevation_min_point = \\n| elevation_min_rank = \\n| population_as_of = [[2010 United States Census|2010]]\\n| population_footnotes = \\n| population_total = 521\\n| pop_est_as_of = 2018\\n| pop_est_footnotes = <ref name=\"USCensusEst2018\"/>\\n| population_est = 562\\n| population_rank = \\n| population_density_km2 = 208.05\\n| population_density_sq_mi = 538.61\\n| population_metro_footnotes = \\n| population_metro = \\n| population_density_metro_km2 = \\n| population_density_metro_sq_mi = \\n| population_density = \\n| population_density_rank = \\n| population_blank1_title = \\n| population_blank1 = \\n| population_density_blank1_km2 = \\n| population_density_blank1_sq_mi = \\n| population_blank2_title = \\n| population_blank2 = \\n| population_density_blank2_km2 = \\n| population_density_blank2_sq_mi = \\n| population_demonym = \\n| population_note = \\n| demographics_type1 = \\n| demographics1_footnotes = \\n| demographics1_title1 = \\n| demographics1_info1 = \\n| demographics_type2 = \\n| demographics2_footnotes = \\n| demographics2_title1 = \\n| demographics2_info1 = \\n| timezone1 = [[North American Central Time Zone|CST]]\\n| utc_offset1 = -6\\n| timezone1_DST = [[North American Central Time Zone|CDT]]\\n| utc_offset1_DST = -5\\n| timezone2 = \\n| utc_offset2 = \\n| timezone2_DST = \\n| utc_offset2_DST = \\n| postal_code_type = \\n| postal_code = \\n| postal2_code_type = \\n| postal2_code = \\n| area_code_type = \\n| area_code = [[Area code 318|318]]\\n| geocode = \\n| iso_code = \\n| blank_name = [[Federal Information Processing Standards|FIPS code]]\\n| blank_info = 22-28940\\n| blank1_name = \\n| blank1_info = \\n| blank2_name = \\n| blank2_info = \\n| blank_name_sec2 = \\n| blank_info_sec2 = \\n| blank1_name_sec2 = \\n| blank1_info_sec2 = \\n| blank2_name_sec2 = Wikimedia Commons\\n| blank2_info_sec2 = \\n| website = \\n| footnotes = \\n}}\\n\\n\\'\\'\\'Gilbert\\'\\'\\' is a [[village (Louisiana)|village]] in [[Franklin Parish, Louisiana]], United States. The population was 521 at the [[2010 United States Census|2010 census]].<ref name=\"Census 2010\">{{cite web| url=http://factfinder.census.gov/bkmk/table/1.0/en/DEC/10_SF1/G001/1600000US2228940| title=Geographic Identifiers: 2010 Census Summary File 1 (G001), Gilbert village, Louisiana| publisher=U.S. Census Bureau| work=American FactFinder| accessdate=May 26, 2016| archive-url=https://archive.today/20200213050109/http://factfinder.census.gov/bkmk/table/1.0/en/DEC/10_SF1/G001/1600000US2228940| archive-date=February 13, 2020| url-status=dead}}</ref>\\n[[Image:Gilbert, LA, welcome sign IMG 0319.JPG|200px|left|thumb|Gilbert welcome sign]]\\n[[Image:First Baptist Church, Gilbert, LA IMG 0316.JPG|200px|left|thumb|First [[Baptist]] Church in Gilbert]]\\n[[Image:Gilbert, LA, United Methodist Church IMG 0317.JPG|left|thumb|200px|Gilbert [[United Methodist Church]]]]\\n\\n==History==\\nGilbert is named for one of the early families of Franklin Parish.{{Citation needed|date=February 2018}} One of their descendants was Louisiana state legislator [[J. C. Gilbert|J.C. \"Sonny\" Gilbert]], of [[Sicily Island, Louisiana|Sicily Island]] in neighboring [[Catahoula Parish]].\\n\\nThe Gilbert welcome sign describes the village as the home of U.S. [[Lieutenant general|Lieutenant General]] [[Claire Chennault]].<ref>{{Cite news|url=http://www.hannapub.com/franklinsun/news/general-chennault-s-granddaughter-to-speak-at-maydaze-ceremony/article_462b6d5c-3a7e-11e7-9976-3b5d22d327c4.html|title=General Chennault’s granddaughter to speak at MAYDAZE ceremony|work=Hanna Newspapers|access-date=2018-02-28|language=en}}</ref>\\n\\n==Geography==\\nGilbert is located in southern Franklin Parish at {{Coord|32|2|59|N|91|39|36|W|type:city}} (32.049677, -91.660109),<ref name=\"GR1\">{{cite web|url=https://www.census.gov/geographies/reference-files/time-series/geo/gazetteer-files.html|publisher=[[United States Census Bureau]]|accessdate=2011-04-23|date=2011-02-12|title=US Gazetteer files: 2010, 2000, and 1990}}</ref> along [[U.S. Route 425]], which leads north {{convert|9.5|mi}} to [[Winnsboro, Louisiana|Winnsboro]], the [[parish seat]], and south {{convert|14|mi}} to Sicily Island.\\n\\nAccording to the [[United States Census Bureau]], the village of Gilbert has a total area of {{convert|2.49|km2|order=flip}}, of which {{convert|2.44|sqkm|order=flip}} is land and {{convert|0.04|sqkm|order=flip|2}}, or 1.77%, is water.<ref name=\"Census 2010\"/>\\n\\n==Demographics==\\n{{US Census population\\n|1920= 442\\n|1930= 496\\n|1940= 428\\n|1950= 452\\n|1960= 472\\n|1970= 746\\n|1980= 800\\n|1990= 704\\n|2000= 561\\n|2010= 521\\n|estyear=2018\\n|estimate=562\\n|estref=<ref name=\"USCensusEst2018\">{{cite web|url=https://www.census.gov/programs-surveys/popest/data/tables.2018.html|title=Population and Housing Unit Estimates|accessdate=March 17, 2020}}</ref>\\n|footnote=U.S. Decennial Census<ref name=\"DecennialCensus\">{{cite web|url=https://www.census.gov/programs-surveys/decennial-census.html|title=Census of Population and Housing|publisher=Census.gov|accessdate=June 4, 2015}}</ref>\\n}}\\nAs of the census<ref name=\"GR2\">{{cite web |url=https://www.census.gov |publisher=[[United States Census Bureau]] |accessdate=2008-01-31 |title=U.S. Census website }}</ref> of 2000, there were 561 people, 207 households, and 150 families residing in the village. The [[population density]] was 573.5 inhabitants per square mile (221.0/km²). There were 231 housing units at an average density of 236.2 per square mile (91.0/km²). The racial makeup of the village was 62.21% [[White (U.S. Census)|White]], 35.83% [[African American (U.S. Census)|African American]], 0.18% [[Native American (U.S. Census)|Native American]], 1.25% from [[Race (United States Census)|other races]], and 0.53% from two or more races. [[Hispanic (U.S. Census)|Hispanic]] or [[Latino (U.S. Census)|Latino]] of any race were 1.96% of the population.\\n\\nThere were 207 households out of which 36.2% had children under the age of 18 living with them, 47.8% were married couples living together, 19.8% had a female householder with no husband present, and 27.1% were non-families. 24.6% of all households were made up of individuals and 14.5% had someone living alone who was 65 years of age or older. The average household size was 2.71 and the average family size was 3.25.\\n\\nIn the village, the population was spread out with 30.3% under the age of 18, 9.3% from 18 to 24, 26.4% from 25 to 44, 19.3% from 45 to 64, and 14.8% who were 65 years of age or older. The median age was 34 years. For every 100 females, there were 81.0 males. For every 100 females age 18 and over, there were 74.6 males.\\n\\nThe median income for a household in the village was $24,297, and the median income for a family was $26,667. Males had a median income of $24,000 versus $14,531 for females. The [[per capita income]] for the village was $15,270. About 21.7% of families and 22.4% of the population were below the [[poverty line]], including 39.0% of those under age 18 and 14.1% of those age 65 or over.\\n\\n==Climate==\\nThe climate in this area is characterized by hot, humid summers and generally mild to cool winters.  According to the [[Köppen Climate Classification]] system, Gilbert has a [[humid subtropical climate]], abbreviated \"Cfa\" on climate maps.<ref>[http://www.weatherbase.com/weather/weather-summary.php3?s=747531&cityname=Gilbert%2C+Louisiana%2C+United+States+of+America&units= Climate Summary for Gilbert, Louisiana]</ref>\\n\\n== Notable people ==\\n*Claire Lee Chennault (1893–1958), a lieutenant general in the [[United States Air Force]]. Chennault was born in Commerce, Texas, but spent his childhood in Gilbert and Franklin Parish.<ref>{{Cite book|url=https://books.google.com/books?id=1iFwCYdBJHQC&pg=PA222&dq=history+of+gilbert+louisiana&hl=en&sa=X&ved=0ahUKEwjjkZj798fZAhVH2mMKHZJHBz04ChDoAQgvMAI#v=onepage&q=history%20of%20gilbert%20louisiana&f=false|title=Early History of Monroe|last=Breard|first=Sylvester|date=2011-11-17|publisher=Pelican Publishing Company, Inc.|isbn=9781455616893|language=en}}</ref>\\n*J. C. \"Sonny\" Gilbert (1922–2014), a Louisiana state legislator; Gilbert is interred at Oakley Cemetery in Gilbert.<ref>{{Cite web|url=http://www.natchezdemocrat.com/2014/11/24/j-c-sonny-gilbert/|title=J.C. \"Sonny\" Gilbert {{!}} Mississippi\\'s Best Community Newspaper|website=www.natchezdemocrat.com|access-date=2018-02-28}}</ref> \\n*Dr. [[Willie Wilson (businessman)|Willie L. Wilson]] (born 1948), businessman; in 2015, he unsuccessfully ran for mayor of [[Chicago]].<ref name=\":0\" /> Wilson sponsors and hosts \\'\\'[[Singsation]]\\'\\', a nationally-syndicated gospel entertainment television show.<ref name=\":0\">{{Cite news|url=http://www.chicagotribune.com/news/local/politics/ct-willie-wilson-chicago-mayor-met-0213-20150212-story.html|title=Willie Wilson selling up-by-the-bootstraps story in Chicago mayor race|last=Pearson|first=David Heinzmann, Rick|work=chicagotribune.com|access-date=2018-02-28|language=en-US}}</ref><ref>{{Cite web|url=http://www.chicagotribune.com/chi-willie-wilson-bio-20150213-story.html|title=Willie Wilson biography|website=latimes.com|access-date=2018-02-28}}</ref>\\n\\n==References==\\n<references />\\n\\n==External links==\\n* [https://web.archive.org/web/20120426085951/http://www.gilbert-la.com/ Gilbert Progress] Community Progress Site for Gilbert, LA\\n\\n{{Franklin Parish, Louisiana}}\\n\\n{{authority control}}\\n\\n[[Category:Villages in Franklin Parish, Louisiana]]\\n[[Category:Villages in Louisiana]]')"
      ]
     },
     "execution_count": 61,
     "metadata": {},
     "output_type": "execute_result"
    }
   ],
   "source": [
    "tti = (texts_all[:15])\n",
    "titles_all[5], tti[5]"
   ]
  },
  {
   "cell_type": "code",
   "execution_count": 51,
   "metadata": {},
   "outputs": [
    {
     "name": "stdout",
     "output_type": "stream",
     "text": [
      "established_date\t\t0.826 53462/64709\n",
      "extinct_date\t\t0.036 2307/64709\n",
      "established\t\t0.885 57254/64709\n",
      "extinct\t\t0.042 2701/64709\n",
      "destroyed\t\t0.038 2429/64709\n",
      "mining\t\t0.035 2294/64709\n",
      "ghost\t\t0.037 2426/64709\n",
      "awesome\t\t0.000 27/64709\n",
      "death\t\t0.036 2316/64709\n",
      "taxes\t\t0.009 598/64709\n",
      "high tax\t\t0.000 10/64709\n",
      "low tax\t\t0.000 20/64709\n",
      "superhero\t\t0.000 17/64709\n",
      "batman\t\t0.000 23/64709\n",
      " men\t\t0.087 5620/64709\n",
      " women\t\t0.027 1756/64709\n",
      "spongebob\t\t0.000 6/64709\n",
      "corporations\t\t0.008 517/64709\n",
      "oil\t\t0.047 3030/64709\n",
      " oil\t\t0.023 1510/64709\n",
      "oil \t\t0.032 2045/64709\n",
      " oil \t\t0.019 1228/64709\n",
      "oil.\t\t0.003 213/64709\n",
      ". oil\t\t0.001 68/64709\n",
      "rockefeller\t\t0.002 121/64709\n",
      "gazette\t\t0.432 27976/64709\n",
      "journal\t\t0.069 4437/64709\n",
      "wall street\t\t0.003 210/64709\n",
      "railroad\t\t0.184 11915/64709\n",
      "baron\t\t0.007 457/64709\n",
      "polish\t\t0.008 531/64709\n",
      "poland\t\t0.003 207/64709\n",
      "french\t\t0.042 2709/64709\n",
      "france\t\t0.017 1080/64709\n",
      "film\t\t0.050 3227/64709\n",
      "movies\t\t0.009 591/64709\n",
      " media \t\t0.021 1350/64709\n",
      "technology\t\t0.021 1376/64709\n",
      "farm\t\t0.145 9351/64709\n",
      "farming\t\t0.035 2258/64709\n",
      "orchard\t\t0.011 711/64709\n",
      "automotive\t\t0.004 266/64709\n",
      "entertainment\t\t0.023 1480/64709\n",
      "immigrants\t\t0.019 1221/64709\n",
      "immigration\t\t0.005 355/64709\n",
      "freelance\t\t0.000 14/64709\n",
      "volcan\t\t0.003 219/64709\n",
      "eruption\t\t0.001 50/64709\n",
      "flood\t\t0.033 2147/64709\n",
      "tornado\t\t0.018 1161/64709\n",
      "hurricane\t\t0.013 818/64709\n",
      "katrina\t\t0.002 144/64709\n",
      "hurricane katrina\t\t0.002 116/64709\n"
     ]
    }
   ],
   "source": [
    "search_terms = ['established_date', 'extinct_date', 'established', 'extinct', 'destroyed']\n",
    "search_terms += ['mining', 'ghost', 'awesome', 'death', 'taxes', 'high tax', 'low tax',\n",
    "                 'superhero', 'batman', ' men', ' women', 'spongebob', 'corporations']\n",
    "search_terms += ['oil', ' oil', 'oil ', ' oil ', 'oil.', '. oil', 'rockefeller']\n",
    "search_terms += ['gazette', 'journal', 'wall street', 'railroad', 'baron',\n",
    "                 'polish', 'poland', 'french', 'france', 'film', 'movies', ' media ',\n",
    "                 'technology', 'farm', 'farming', 'orchard', 'automotive', 'entertainment',\n",
    "                 'immigrants', 'immigration', 'freelance', 'volcan',\n",
    "                 'eruption', 'flood', 'tornado', 'hurricane', 'katrina', 'hurricane katrina']\n",
    "\n",
    "results_dict_ = {}\n",
    "for search_term in search_terms:\n",
    "    results_count = sum([1 for text in texts_all if search_term.lower() in text.lower()])\n",
    "    results_dict_[search_term] = results_count\n",
    "    \n",
    "    print(f'{search_term}\\t\\t{results_count / len(texts_all):0.3f} {results_count}/{len(texts_all)}')"
   ]
  },
  {
   "cell_type": "code",
   "execution_count": 53,
   "metadata": {},
   "outputs": [
    {
     "data": {
      "text/html": [
       "<div>\n",
       "<style scoped>\n",
       "    .dataframe tbody tr th:only-of-type {\n",
       "        vertical-align: middle;\n",
       "    }\n",
       "\n",
       "    .dataframe tbody tr th {\n",
       "        vertical-align: top;\n",
       "    }\n",
       "\n",
       "    .dataframe thead th {\n",
       "        text-align: right;\n",
       "    }\n",
       "</style>\n",
       "<table border=\"1\" class=\"dataframe\">\n",
       "  <thead>\n",
       "    <tr style=\"text-align: right;\">\n",
       "      <th></th>\n",
       "      <th>0</th>\n",
       "      <th>1</th>\n",
       "    </tr>\n",
       "  </thead>\n",
       "  <tbody>\n",
       "    <tr>\n",
       "      <th>established</th>\n",
       "      <td>0.885</td>\n",
       "      <td>57254 / 64709</td>\n",
       "    </tr>\n",
       "    <tr>\n",
       "      <th>established_date</th>\n",
       "      <td>0.826</td>\n",
       "      <td>53462 / 64709</td>\n",
       "    </tr>\n",
       "    <tr>\n",
       "      <th>gazette</th>\n",
       "      <td>0.432</td>\n",
       "      <td>27976 / 64709</td>\n",
       "    </tr>\n",
       "    <tr>\n",
       "      <th>railroad</th>\n",
       "      <td>0.184</td>\n",
       "      <td>11915 / 64709</td>\n",
       "    </tr>\n",
       "    <tr>\n",
       "      <th>farm</th>\n",
       "      <td>0.145</td>\n",
       "      <td>9351 / 64709</td>\n",
       "    </tr>\n",
       "    <tr>\n",
       "      <th>men</th>\n",
       "      <td>0.087</td>\n",
       "      <td>5620 / 64709</td>\n",
       "    </tr>\n",
       "    <tr>\n",
       "      <th>journal</th>\n",
       "      <td>0.069</td>\n",
       "      <td>4437 / 64709</td>\n",
       "    </tr>\n",
       "    <tr>\n",
       "      <th>film</th>\n",
       "      <td>0.050</td>\n",
       "      <td>3227 / 64709</td>\n",
       "    </tr>\n",
       "    <tr>\n",
       "      <th>oil</th>\n",
       "      <td>0.047</td>\n",
       "      <td>3030 / 64709</td>\n",
       "    </tr>\n",
       "    <tr>\n",
       "      <th>extinct</th>\n",
       "      <td>0.042</td>\n",
       "      <td>2701 / 64709</td>\n",
       "    </tr>\n",
       "    <tr>\n",
       "      <th>french</th>\n",
       "      <td>0.042</td>\n",
       "      <td>2709 / 64709</td>\n",
       "    </tr>\n",
       "    <tr>\n",
       "      <th>destroyed</th>\n",
       "      <td>0.038</td>\n",
       "      <td>2429 / 64709</td>\n",
       "    </tr>\n",
       "    <tr>\n",
       "      <th>ghost</th>\n",
       "      <td>0.037</td>\n",
       "      <td>2426 / 64709</td>\n",
       "    </tr>\n",
       "    <tr>\n",
       "      <th>death</th>\n",
       "      <td>0.036</td>\n",
       "      <td>2316 / 64709</td>\n",
       "    </tr>\n",
       "    <tr>\n",
       "      <th>extinct_date</th>\n",
       "      <td>0.036</td>\n",
       "      <td>2307 / 64709</td>\n",
       "    </tr>\n",
       "    <tr>\n",
       "      <th>mining</th>\n",
       "      <td>0.035</td>\n",
       "      <td>2294 / 64709</td>\n",
       "    </tr>\n",
       "    <tr>\n",
       "      <th>farming</th>\n",
       "      <td>0.035</td>\n",
       "      <td>2258 / 64709</td>\n",
       "    </tr>\n",
       "    <tr>\n",
       "      <th>flood</th>\n",
       "      <td>0.033</td>\n",
       "      <td>2147 / 64709</td>\n",
       "    </tr>\n",
       "    <tr>\n",
       "      <th>oil</th>\n",
       "      <td>0.032</td>\n",
       "      <td>2045 / 64709</td>\n",
       "    </tr>\n",
       "    <tr>\n",
       "      <th>women</th>\n",
       "      <td>0.027</td>\n",
       "      <td>1756 / 64709</td>\n",
       "    </tr>\n",
       "    <tr>\n",
       "      <th>oil</th>\n",
       "      <td>0.023</td>\n",
       "      <td>1510 / 64709</td>\n",
       "    </tr>\n",
       "    <tr>\n",
       "      <th>entertainment</th>\n",
       "      <td>0.023</td>\n",
       "      <td>1480 / 64709</td>\n",
       "    </tr>\n",
       "    <tr>\n",
       "      <th>technology</th>\n",
       "      <td>0.021</td>\n",
       "      <td>1376 / 64709</td>\n",
       "    </tr>\n",
       "    <tr>\n",
       "      <th>media</th>\n",
       "      <td>0.021</td>\n",
       "      <td>1350 / 64709</td>\n",
       "    </tr>\n",
       "    <tr>\n",
       "      <th>immigrants</th>\n",
       "      <td>0.019</td>\n",
       "      <td>1221 / 64709</td>\n",
       "    </tr>\n",
       "    <tr>\n",
       "      <th>oil</th>\n",
       "      <td>0.019</td>\n",
       "      <td>1228 / 64709</td>\n",
       "    </tr>\n",
       "    <tr>\n",
       "      <th>tornado</th>\n",
       "      <td>0.018</td>\n",
       "      <td>1161 / 64709</td>\n",
       "    </tr>\n",
       "    <tr>\n",
       "      <th>france</th>\n",
       "      <td>0.017</td>\n",
       "      <td>1080 / 64709</td>\n",
       "    </tr>\n",
       "    <tr>\n",
       "      <th>hurricane</th>\n",
       "      <td>0.013</td>\n",
       "      <td>818 / 64709</td>\n",
       "    </tr>\n",
       "    <tr>\n",
       "      <th>orchard</th>\n",
       "      <td>0.011</td>\n",
       "      <td>711 / 64709</td>\n",
       "    </tr>\n",
       "    <tr>\n",
       "      <th>movies</th>\n",
       "      <td>0.009</td>\n",
       "      <td>591 / 64709</td>\n",
       "    </tr>\n",
       "    <tr>\n",
       "      <th>taxes</th>\n",
       "      <td>0.009</td>\n",
       "      <td>598 / 64709</td>\n",
       "    </tr>\n",
       "    <tr>\n",
       "      <th>polish</th>\n",
       "      <td>0.008</td>\n",
       "      <td>531 / 64709</td>\n",
       "    </tr>\n",
       "    <tr>\n",
       "      <th>corporations</th>\n",
       "      <td>0.008</td>\n",
       "      <td>517 / 64709</td>\n",
       "    </tr>\n",
       "    <tr>\n",
       "      <th>baron</th>\n",
       "      <td>0.007</td>\n",
       "      <td>457 / 64709</td>\n",
       "    </tr>\n",
       "    <tr>\n",
       "      <th>immigration</th>\n",
       "      <td>0.005</td>\n",
       "      <td>355 / 64709</td>\n",
       "    </tr>\n",
       "    <tr>\n",
       "      <th>automotive</th>\n",
       "      <td>0.004</td>\n",
       "      <td>266 / 64709</td>\n",
       "    </tr>\n",
       "    <tr>\n",
       "      <th>poland</th>\n",
       "      <td>0.003</td>\n",
       "      <td>207 / 64709</td>\n",
       "    </tr>\n",
       "    <tr>\n",
       "      <th>wall street</th>\n",
       "      <td>0.003</td>\n",
       "      <td>210 / 64709</td>\n",
       "    </tr>\n",
       "    <tr>\n",
       "      <th>oil.</th>\n",
       "      <td>0.003</td>\n",
       "      <td>213 / 64709</td>\n",
       "    </tr>\n",
       "    <tr>\n",
       "      <th>volcan</th>\n",
       "      <td>0.003</td>\n",
       "      <td>219 / 64709</td>\n",
       "    </tr>\n",
       "    <tr>\n",
       "      <th>katrina</th>\n",
       "      <td>0.002</td>\n",
       "      <td>144 / 64709</td>\n",
       "    </tr>\n",
       "    <tr>\n",
       "      <th>hurricane katrina</th>\n",
       "      <td>0.002</td>\n",
       "      <td>116 / 64709</td>\n",
       "    </tr>\n",
       "    <tr>\n",
       "      <th>rockefeller</th>\n",
       "      <td>0.002</td>\n",
       "      <td>121 / 64709</td>\n",
       "    </tr>\n",
       "    <tr>\n",
       "      <th>. oil</th>\n",
       "      <td>0.001</td>\n",
       "      <td>68 / 64709</td>\n",
       "    </tr>\n",
       "    <tr>\n",
       "      <th>eruption</th>\n",
       "      <td>0.001</td>\n",
       "      <td>50 / 64709</td>\n",
       "    </tr>\n",
       "    <tr>\n",
       "      <th>freelance</th>\n",
       "      <td>0.000</td>\n",
       "      <td>14 / 64709</td>\n",
       "    </tr>\n",
       "    <tr>\n",
       "      <th>spongebob</th>\n",
       "      <td>0.000</td>\n",
       "      <td>6 / 64709</td>\n",
       "    </tr>\n",
       "    <tr>\n",
       "      <th>batman</th>\n",
       "      <td>0.000</td>\n",
       "      <td>23 / 64709</td>\n",
       "    </tr>\n",
       "    <tr>\n",
       "      <th>superhero</th>\n",
       "      <td>0.000</td>\n",
       "      <td>17 / 64709</td>\n",
       "    </tr>\n",
       "    <tr>\n",
       "      <th>low tax</th>\n",
       "      <td>0.000</td>\n",
       "      <td>20 / 64709</td>\n",
       "    </tr>\n",
       "    <tr>\n",
       "      <th>high tax</th>\n",
       "      <td>0.000</td>\n",
       "      <td>10 / 64709</td>\n",
       "    </tr>\n",
       "    <tr>\n",
       "      <th>awesome</th>\n",
       "      <td>0.000</td>\n",
       "      <td>27 / 64709</td>\n",
       "    </tr>\n",
       "  </tbody>\n",
       "</table>\n",
       "</div>"
      ],
      "text/plain": [
       "                       0              1\n",
       "established        0.885  57254 / 64709\n",
       "established_date   0.826  53462 / 64709\n",
       "gazette            0.432  27976 / 64709\n",
       "railroad           0.184  11915 / 64709\n",
       "farm               0.145   9351 / 64709\n",
       " men               0.087   5620 / 64709\n",
       "journal            0.069   4437 / 64709\n",
       "film               0.050   3227 / 64709\n",
       "oil                0.047   3030 / 64709\n",
       "extinct            0.042   2701 / 64709\n",
       "french             0.042   2709 / 64709\n",
       "destroyed          0.038   2429 / 64709\n",
       "ghost              0.037   2426 / 64709\n",
       "death              0.036   2316 / 64709\n",
       "extinct_date       0.036   2307 / 64709\n",
       "mining             0.035   2294 / 64709\n",
       "farming            0.035   2258 / 64709\n",
       "flood              0.033   2147 / 64709\n",
       "oil                0.032   2045 / 64709\n",
       " women             0.027   1756 / 64709\n",
       " oil               0.023   1510 / 64709\n",
       "entertainment      0.023   1480 / 64709\n",
       "technology         0.021   1376 / 64709\n",
       " media             0.021   1350 / 64709\n",
       "immigrants         0.019   1221 / 64709\n",
       " oil               0.019   1228 / 64709\n",
       "tornado            0.018   1161 / 64709\n",
       "france             0.017   1080 / 64709\n",
       "hurricane          0.013    818 / 64709\n",
       "orchard            0.011    711 / 64709\n",
       "movies             0.009    591 / 64709\n",
       "taxes              0.009    598 / 64709\n",
       "polish             0.008    531 / 64709\n",
       "corporations       0.008    517 / 64709\n",
       "baron              0.007    457 / 64709\n",
       "immigration        0.005    355 / 64709\n",
       "automotive         0.004    266 / 64709\n",
       "poland             0.003    207 / 64709\n",
       "wall street        0.003    210 / 64709\n",
       "oil.               0.003    213 / 64709\n",
       "volcan             0.003    219 / 64709\n",
       "katrina            0.002    144 / 64709\n",
       "hurricane katrina  0.002    116 / 64709\n",
       "rockefeller        0.002    121 / 64709\n",
       ". oil              0.001     68 / 64709\n",
       "eruption           0.001     50 / 64709\n",
       "freelance          0.000     14 / 64709\n",
       "spongebob          0.000      6 / 64709\n",
       "batman             0.000     23 / 64709\n",
       "superhero          0.000     17 / 64709\n",
       "low tax            0.000     20 / 64709\n",
       "high tax           0.000     10 / 64709\n",
       "awesome            0.000     27 / 64709"
      ]
     },
     "execution_count": 53,
     "metadata": {},
     "output_type": "execute_result"
    }
   ],
   "source": [
    "pd.DataFrame([(f'{count / len(texts_all):0.3f}', f'{count} / {len(texts_all)}') for count in results_dict_.values()],\n",
    "             index=results_dict_.keys()).sort_values(by=0, ascending=False)"
   ]
  },
  {
   "cell_type": "code",
   "execution_count": null,
   "metadata": {},
   "outputs": [],
   "source": [
    "established_dates_ = {}\n",
    "\n",
    "search_terms = map(str, range(1200, 2100))\n",
    "\n",
    "for search_term in search_terms:\n",
    "    results_count = sum([1 for text in texts_all if search_term.lower() in text.lower()])\n",
    "    established_dates_[search_term] = results_count\n",
    "    \n",
    "    print(f'{search_term}\\t\\t{results_count / len(texts_all):0.5f} {results_count}/{len(texts_all)}')"
   ]
  },
  {
   "cell_type": "code",
   "execution_count": 100,
   "metadata": {},
   "outputs": [],
   "source": [
    "infoboxes_dicts = [{key: value for key, value in wikipedia_infobox_key_values_non_empty(text)\n",
    "                    if 'estab' in key} for text in texts_all]\n",
    "\n",
    "infoboxes_dicts = [dict_ for dict_ in infoboxes_dicts if dict_ != {}]"
   ]
  },
  {
   "cell_type": "code",
   "execution_count": 111,
   "metadata": {},
   "outputs": [
    {
     "data": {
      "text/plain": [
       "['May 14, 1875<ref>{{cite web |url=http://sos.iowa.gov/business/pdf/IncCities.pdf  |title=LIST OF INCORPORATED CITIES |page=6 |date=March 16, 2012 |publisher=[[Iowa Secretary of State]] |access-date=August 22, 2013 |url-status=live |archive-url=https://web.archive.org/web/20130415051955/http://sos.iowa.gov/business/pdf/IncCities.pdf |archive-date=April 15, 2013 }}</ref> ',\n",
       " \"1836<ref name=hellman>Paul Hellman, ''[https://books.google.com/books?id=EQ-R4O2L3nEC&dq=jacksboro,+tennessee+%22andrew+jackson%22&source=gbs_navlinks_s Historical Gazetteer of the United States]'' (Taylor and Francis, 2005), p. 1025.</ref>\",\n",
       " 'January 23, 1956<ref>{{Cite web',\n",
       " '1963<ref name=sos>Commonwealth of Kentucky. Office of the Secretary of State. Land Office. \"Powderly, Kentucky\". Accessed 27 September 2013.</ref>',\n",
       " '1927<ref>{{cite web|title=Colmar Manor|url=http://msa.maryland.gov/msa/mdmanual/37mun/colmar/html/c.html|website=Maryland Manual|accessdate=27 June 2017}}</ref>',\n",
       " '1832 as Dugas Pasture',\n",
       " '1904',\n",
       " '1832<ref>{{cite web|title=East New Market|url=http://msa.maryland.gov/msa/mdmanual/37mun/eastnew/html/e.html|website=Maryland Manual|accessdate=25 June 2017}}</ref>',\n",
       " 'August 26, 1969<ref>{{cite book|title=1996 Alaska Municipal Officials Directory|location=[[Juneau]]|publisher=Alaska Municipal League/[[Alaska Department of Commerce, Community and Economic Development|Alaska Department of Community and Regional Affairs]]|date=January 1996|page=112}}</ref>',\n",
       " '1925',\n",
       " '1918<ref name=\"MDManual\">{{cite web|title=Town of Chevy Chase|url=http://msa.maryland.gov/msa/mdmanual/37mun/chevychase/html/c.html|website=Maryland Manual|accessdate=27 June 2017}}</ref>',\n",
       " 'April 3, 1837',\n",
       " 'September 1, 1955',\n",
       " '1734',\n",
       " \"1903<ref>''[http://www.state.tn.us/sos/bluebook/05-06/48-data.pdf Tennessee Blue Book]'', 2005-2006, pp. 618-625.</ref>\"]"
      ]
     },
     "execution_count": 111,
     "metadata": {},
     "output_type": "execute_result"
    }
   ],
   "source": [
    "dates = set([dict_.get('established_date', dict_.get('established')) for dict_ in infoboxes_dicts])\n",
    "dates.remove(None)\n",
    "\n",
    "list(dates)[:15]"
   ]
  },
  {
   "cell_type": "code",
   "execution_count": 134,
   "metadata": {},
   "outputs": [
    {
     "data": {
      "text/plain": [
       "[<matplotlib.lines.Line2D at 0x7f8fe6767ac0>]"
      ]
     },
     "execution_count": 134,
     "metadata": {},
     "output_type": "execute_result"
    },
    {
     "data": {
      "image/png": "[encoded data removed]",
      "text/plain": [
       "<Figure size 1080x684 with 1 Axes>"
      ]
     },
     "metadata": {
      "needs_background": "light"
     },
     "output_type": "display_data"
    }
   ],
   "source": [
    "dates = set([dict_.get('established_date', dict_.get('established')) for dict_ in infoboxes_dicts])\n",
    "dates.remove(None)\n",
    "\n",
    "search_terms = map(str, range(1100, 2100))\n",
    "\n",
    "date_results = {}\n",
    "for search_term in search_terms:\n",
    "    count = sum([1 for date_text in dates if search_term in date_text.lower()])\n",
    "    date_results[search_term] = count\n",
    "\n",
    "fig, ax = plt.subplots(figsize=(0.5*30, 0.5*19))\n",
    "\n",
    "ax.plot(list(map(int, date_results.keys())), list(date_results.values()))\n",
    "# ax.fill_between(list(map(int, date_results.keys())), y1=0, y2=list(date_results.values()))"
   ]
  },
  {
   "cell_type": "markdown",
   "metadata": {},
   "source": [
    "---"
   ]
  },
  {
   "cell_type": "markdown",
   "metadata": {},
   "source": [
    "#### Investigations"
   ]
  },
  {
   "cell_type": "markdown",
   "metadata": {},
   "source": [
    " "
   ]
  },
  {
   "cell_type": "markdown",
   "metadata": {},
   "source": [
    " #### Potential inquiries:\n",
    " \n",
    " Nearness to rivers/lakes/roads  \n",
    " Mining  \n",
    " Text quantity as rough measure of significance  \n",
    " Dates extract to estimate approximate time"
   ]
  },
  {
   "cell_type": "code",
   "execution_count": 24,
   "metadata": {},
   "outputs": [
    {
     "name": "stdout",
     "output_type": "stream",
     "text": [
      "86\n",
      "{{Infobox settlement\n",
      "|name                     = Tecumseh\n",
      "|settlement_type          = [[Unincorporated area|Unincorporated community]]\n",
      "\n",
      "<!-- Images -->\n",
      "|image_skyline            = Tecumseh, KS.JPG\n",
      "|image_caption            = Main part of Tecumseh. Church and [[Topeka & Shawnee County Public Library]] bookmobile stop and book drop-off box to the left. [[United States Postal Service]] office to the right.\n",
      "|image_flag               = \n",
      "|image_seal               =\n",
      "\n",
      "<!-- Maps -->\n",
      "|image_map                = \n",
      "|map_caption              = \n",
      "|image_map1               = Map of Shawnee Co, Ks, USA.png\n",
      "|map_caption1             = [[Kansas Department of Transportation|KDOT]] map of [[Shawnee County, Kansas|Shawnee County]] ([[:File:Kansas official transportation map legend.png|legend]])\n",
      "|pushpin_map              = Kansas#USA\n",
      "|pushpin_label            = Tecumseh\n",
      "|pushpin_label_position   = left <!-- the position of the pushpin label: left, right, top, bottom, none -->\n",
      "|pushpin_map_caption      = Location within the [[U.S. state|state]] of [[Kansas]]\n",
      "\n",
      "<!-- Location -->\n",
      "|coordinates              = {{coord|39|2|53|N|95|34|45|W|region:US-KS_type:city_source:GNIS|display=inline,title}}\n",
      "|coordinates_footnotes    = \n",
      "|subdivision_type         = [[List of sovereign states|Country]]\n",
      "|subdivision_name         = United States\n",
      "|subdivision_type1        = [[U.S. state|State]]\n",
      "|subdivision_name1        = [[Kansas]]\n",
      "|subdivision_type2        = [[List of counties in Kansas|County]]\n",
      "|subdivision_name2        = [[Shawnee County, Kansas|Shawnee]]\n",
      "|subdivision_type3        = [[List of townships in Kansas|Township]]\n",
      "|subdivision_name3        = Tecumseh\n",
      "\n",
      "<!-- Government -->\n",
      "|government_footnotes     = \n",
      "|government_type          = \n",
      "|leader_title             = \n",
      "|leader_name              = \n",
      "|established_title        = [[Platted]]\n",
      "|established_date         =\n",
      "\n",
      "<!-- Area -->\n",
      "|area_footnotes           = \n",
      "|area_total_sq_mi         = \n",
      "|area_land_sq_mi          = \n",
      "|area_water_sq_mi         = \n",
      "|unit_pref                = Imperial\n",
      "\n",
      "<!-- Elevation -->\n",
      "|elevation_footnotes      = <ref name=\"GR3\">{{cite web|url=http://geonames.usgs.gov|accessdate=2008-01-31|title=US Board on Geographic Names|publisher=[[United States Geological Survey]]|date=2007-10-25}}</ref>\n",
      "|elevation_ft             = 912\n",
      "|elevation_m              = 278\n",
      "\n",
      "<!-- Population -->\n",
      "|population_footnotes     = \n",
      "|population_as_of         = [[2010 United States Census|2010]]\n",
      "|population_total         = \n",
      "|pop_est_footnotes        = \n",
      "|pop_est_as_of            = \n",
      "|population_est           = \n",
      "|population_density_sq_mi = auto\n",
      "|population_density_km2   = auto\n",
      "\n",
      "<!-- General information -->\n",
      "|timezone                 = [[Central Time Zone|CST]]\n",
      "|utc_offset               = -6\n",
      "|timezone_DST             = CDT\n",
      "|utc_offset_DST           = -5\n",
      "|postal_code_type         = [[ZIP code]]\n",
      "|postal_code              = 66542\n",
      "|area_code_type           = [[North American Numbering Plan|Area code]]\n",
      "|area_code                = [[Area code 785|785]]\n",
      "|blank_name               = [[Federal Information Processing Standard|FIPS code]]\n",
      "|blank_info               = {{FIPS|20|70075}} <ref name=\"GR3\" />\n",
      "|blank1_name              = [[Geographic Names Information System|GNIS]] ID\n",
      "|blank1_info              = {{GNIS 4|478796}} <ref name=\"GR3\" />\n",
      "|website                  = \n",
      "|footnotes                = \n",
      "}}\n",
      "\n",
      "'''Tecumseh''' is an [[unincorporated area|unincorporated community]] in [[Shawnee County, Kansas|Shawnee County]], [[Kansas]], United States.  It is situated along the [[Kansas River]].  The community and township are both named for the famous [[Tecumseh|Shawnee chief]].<ref name=\"Witness3512\">{{Cite book| first=Roy D.| last=Bird|author2=Douglass W. Wallace | editor=Robert W. Richmond & Joseph W. Snell| title=Witness of the Times: A History of Shawnee County| year=1976| pages=351–352| publisher=Shawnee County Historical Society| location=Topeka, Kansas| isbn=0-916934-03-9}}</ref><ref>{{cite book | url=https://books.google.com/books?id=ODXKhgH3e6AC&lpg=PP1&pg=PA49#v=onepage&q&f=false | title=Exploring Kansas Highways | author=Heim, Michael | year=2007 | pages=49}}</ref>\n",
      "\n",
      "==History==\n",
      "Tecumseh dates from the 1850s when Thomas Stinson settled in the area and had a townsite platted by September 1, 1854.<ref name=\"Witness3512\"/>  It was settled by pro-southern partisans in the turbulent days when [[Bleeding Kansas|Kansas was a territory]].  For a time it served as the pro-southern capital of the territory and prospered, even having a newspaper.  The town's post office opened in March 1855.<ref>{{Cite web| title=Kansas Post Offices Database| url=http://www.kshs.org/genealogists/places/postoffices.htm| publisher=Kansas State Historical Society| accessdate=2008-02-09}} Containing information taken from {{Cite book| first=Robert W| last=Baughman| title=Kansas Post Offices, May 29, 1828–August 3, 1961| publisher=Kansas Postal History Society}}</ref>  In 1886, the brick courthouse was sold for $500 and removed.<ref name=\"Witness3512\"/>  Once the northern/southern political issues were settled at the conclusion of the [[American Civil War|Civil War]], the village rapidly declined, and it survived as a mere ghost of itself for the next ninety years.\n",
      "\n",
      "Construction of the Kansas Power & Light Co. power plant in 1924 and 1925.<ref name=\"Witness3512\"/>  In 1958, Du Pont established a cellophane plant east of town created a renaissance of sorts.<ref name=\"Witness3512\"/>  As [[Topeka]] grew in the 1950s, Tecumseh again started to grow, this time as a suburb of Topeka.  The old townsite grew and numerous suburban housing subdivisions developed in the vicinity.\n",
      "\n",
      "==Geography==\n",
      "Tecumseh is located at {{coord|39|02|53|N|95|34|45|W|type:city_region:US-KS}} (39.0480558, -95.5791453),<ref name=\"GR3\" /> in Section 36, Township 11 south, Range 16 east.  It is situated south of the [[Kansas River]] between Tecumseh Creek to the east and Stinson Creek to the west.  Contained entirely within Tecumseh Township, it is about 2 miles east of the [[Topeka, Kansas|Topeka]] city limits.<ref>{{Cite web| title=KDOT County Maps| url=http://www.ksdot.org/burtransplan/maps/Mapscounties.asp| year=1994| accessdate=2008-02-09}}</ref>  [[U.S. Route 40 in Kansas|U.S. Route 40]] passes the south side of Tecumseh.  A BNSF rail line—running between [[Lawrence, Kansas|Lawrence]] and Topeka—passes north of the town between it and the river.\n",
      "\n",
      "==Demographics==\n",
      "Tecumseh is part of the [[Topeka, Kansas|Topeka]], [[Kansas]] [[Topeka metropolitan area|Metropolitan Statistical Area]].  Although official populations are not compiled for unincorporated places, the population of the surrounding Tecumseh Township was 7,822 in the [[United States Census, 2000|2000 census]].\n",
      "\n",
      "==Economy==\n",
      "The community includes a public school (part of USD 450), two churches, a post office, a large electrical generating plant and a cellophane factory.<ref>[http://cjonline.com/news/business/2016-05-18/japanese-firm-invest-30-million-tecumseh-cellophane-plant-last-plant-its# Japanese firm to invest $30 million in Tecumseh cellophane plant, the last plant of its kind in U.S.; The Topeka Capital Journal; May 18, 2016.]</ref>\n",
      "\n",
      "==References==\n",
      "{{Reflist}}\n",
      "\n",
      "==External links==\n",
      "* Shawnee County Maps: [http://www.ksdot.org/Assets/wwwksdotorg/bureaus/burTransPlan/maps/county-pdf/shawnee.PDF Current], [http://www.ksdot.org/bureaus/burtransplan/maps/PastPublishedCounty.asp Historic], KDOT\n",
      "\n",
      "{{Shawnee County, Kansas}}\n",
      "\n",
      "{{authority control}}\n",
      "\n",
      "[[Category:Unincorporated communities in Shawnee County, Kansas]]\n",
      "[[Category:Unincorporated communities in Kansas]]\n",
      "[[Category:Topeka metropolitan area, Kansas]]\n"
     ]
    }
   ],
   "source": [
    "spooky = (data_frame.filter(lambda row: 'ghost' in row.XML.lower())\n",
    "                    .map(lambda row: row.XML)\n",
    "                    .cache())\n",
    "\n",
    "print(spooky.count())\n",
    "print(BeautifulSoup(spooky.sample(fraction=0.5, withReplacement=False).take(20)[8]).select('text')[0].getText())"
   ]
  },
  {
   "cell_type": "code",
   "execution_count": 135,
   "metadata": {
    "collapsed": true,
    "jupyter": {
     "outputs_hidden": true
    }
   },
   "outputs": [
    {
     "data": {
      "text/html": [
       "<img src=\"https://en.wikipedia.org/wiki/Special:FilePath/Abandoned school in Toyah, Texas.jpg\" />"
      ],
      "text/plain": [
       "<IPython.core.display.HTML object>"
      ]
     },
     "execution_count": 135,
     "metadata": {},
     "output_type": "execute_result"
    }
   ],
   "source": [
    "from IPython.display import HTML\n",
    "import urllib\n",
    "\n",
    "\n",
    "def wikipedia_file_url(file):\n",
    "    # return \"https://upload.wikimedia.org/wikipedia/commons/8/81/\" + urllib.parse.quote(file, safe=' ').replace(' ', '_')\n",
    "    return \"https://en.wikipedia.org/wiki/Special:FilePath/\" + file\n",
    "\n",
    "file = 'Bellfonte, Alabama- The Chimney of the Local Inn.JPG'\n",
    "file = 'Reno skyline.JPG'\n",
    "file = 'Cape dec29-07 (23).JPG'\n",
    "file = 'Abandoned school in Toyah, Texas.jpg'\n",
    "HTML(f'<img src=\"{wikipedia_file_url(file)}\" />')"
   ]
  },
  {
   "cell_type": "code",
   "execution_count": null,
   "metadata": {},
   "outputs": [],
   "source": [
    "|settlement_type          = [[Ghost town]]\n",
    "|settlement_type          = [[Ghost town|Ghost Town]]\n",
    "|coordinates              = {{coord|34|42|40|N|85|56|43|W|region:US-AL|display=inline,title}}\n",
    "|coordinates   = {{coord|31|15|21|N|91|36|30|W|region:US-MS|display=inline,title}}"
   ]
  },
  {
   "cell_type": "code",
   "execution_count": null,
   "metadata": {},
   "outputs": [],
   "source": [
    "[[Category:Former populated places in Minnesota]]\n",
    "[[Category:Former populated places in Rock County, Minnesota]]\n",
    "[[Category:Ghost towns in Alabama]]\n",
    "[[Category:Ghost towns in West Texas]]\n",
    "[[Category:Ghost towns in Nye County, Nevada]]\n",
    "[[Category:Ghost towns in Nevada]]\n",
    "[[Category:Former populated places in Adams County, Mississippi]]\n",
    "[[Category:Former populated places in Mississippi]]\n",
    "[[Category:Former populated places in Oregon]]\n",
    "[[Category:Destroyed cities]]\n",
    "{{US-ghost-town-stub}}"
   ]
  },
  {
   "cell_type": "code",
   "execution_count": null,
   "metadata": {},
   "outputs": [],
   "source": [
    "'''Bellefonte''' is a [[ghost town]]"
   ]
  },
  {
   "cell_type": "code",
   "execution_count": null,
   "metadata": {},
   "outputs": [],
   "source": [
    "==Demographics==\n",
    "{{US Census population\n",
    "|1830= 1414\n",
    "|1840= 1743\n",
    "|1850= 1761\n",
    "|1860= 1942\n",
    "|1870= 1704\n",
    "|1880= 1767\n",
    "|1890= 1728\n",
    "|1900= 1548\n",
    "|1910= 1644\n",
    "|1920= 1518\n",
    "|1930= 1518\n",
    "|1940= 1700\n",
    "|1950= 1778\n",
    "|1960= 2145\n",
    "|1970= 2505\n",
    "|1980= 2792\n",
    "|1990= 2667\n",
    "|2000= 2692\n",
    "|2010= 2775\n",
    "|estyear=2016\n",
    "|estimate=2783\n",
    "|estref=<ref name=\"USCensusEst2016\">{{cite web|url=https://www.census.gov/programs-surveys/popest/data/tables.2016.html|title=Population and Housing Unit Estimates|accessdate=June 9, 2017}}</ref>\n",
    "|footnote=U.S. Decennial Census<ref name=\"DecennialCensus\">{{cite web|url=https://www.census.gov/programs-surveys/decennial-census.html|title=Census of Population and Housing|publisher=Census.gov|accessdate=June 4, 2015}}</ref>\n",
    "}}"
   ]
  },
  {
   "cell_type": "code",
   "execution_count": null,
   "metadata": {},
   "outputs": [],
   "source": [
    "&lt;!-- Population------------------&gt;\n",
    "| population_total        = 320\n",
    "| population_as_of        = 2010\n",
    "| population_density_km2  = auto\n",
    "|population_metro         = \n",
    "\n",
    "&lt;!-- Population --&gt;\n",
    "|population_as_of         = \n",
    "|population_footnotes     =\n",
    "|population_total         = \n",
    "|population_density_km2   = \n",
    "|population_density_sq_mi =\n",
    "\n",
    "&lt;!-- postal codes, area code --&gt;\n",
    "| geocode                 = \n",
    "| iso_code                = "
   ]
  }
 ],
 "metadata": {
  "kernelspec": {
   "display_name": "Python 3",
   "language": "python",
   "name": "python3"
  },
  "language_info": {
   "codemirror_mode": {
    "name": "ipython",
    "version": 3
   },
   "file_extension": ".py",
   "mimetype": "text/x-python",
   "name": "python",
   "nbconvert_exporter": "python",
   "pygments_lexer": "ipython3",
   "version": "3.8.3"
  }
 },
 "nbformat": 4,
 "nbformat_minor": 4
}
